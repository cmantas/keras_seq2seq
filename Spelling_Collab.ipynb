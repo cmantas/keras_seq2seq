{
  "nbformat": 4,
  "nbformat_minor": 0,
  "metadata": {
    "colab": {
      "name": "Spelling.ipynb",
      "version": "0.3.2",
      "provenance": [],
      "collapsed_sections": [],
      "toc_visible": true
    },
    "kernelspec": {
      "name": "python3",
      "display_name": "Python 3"
    },
    "accelerator": "GPU"
  },
  "cells": [
    {
      "metadata": {
        "id": "mQcWw3-jgaeO",
        "colab_type": "code",
        "colab": {
          "base_uri": "https://localhost:8080/",
          "height": 415
        },
        "outputId": "68338616-b7b6-4049-a0d9-e4352e990737"
      },
      "cell_type": "code",
      "source": [
        "# ignore some Keras warnings regarding deprecations and model saving \n",
        "import warnings\n",
        "warnings.filterwarnings('ignore')\n",
        "\n",
        "from keras.models import Model, load_model, Sequential\n",
        "from keras.layers import Input, LSTM, Dense, RepeatVector, \\\n",
        "                         TimeDistributed, Activation, GRU, Dropout, \\\n",
        "                         Bidirectional\n",
        "from keras.callbacks import EarlyStopping\n",
        "import pickle\n",
        "\n",
        "!rm helpers.py\n",
        "!wget https://github.com/cmantas/keras_seq2seq/raw/master/helpers.py 2>&1 /dev/null\n",
        "from helpers import *\n"
      ],
      "execution_count": 3,
      "outputs": [
        {
          "output_type": "stream",
          "text": [
            "Using TensorFlow backend.\n"
          ],
          "name": "stderr"
        },
        {
          "output_type": "stream",
          "text": [
            "--2018-10-31 16:18:07--  https://github.com/cmantas/keras_seq2seq/raw/master/helpers.py\n",
            "Resolving github.com (github.com)... 192.30.253.113, 192.30.253.112\n",
            "Connecting to github.com (github.com)|192.30.253.113|:443... connected.\n",
            "HTTP request sent, awaiting response... 302 Found\n",
            "Location: https://raw.githubusercontent.com/cmantas/keras_seq2seq/master/helpers.py [following]\n",
            "--2018-10-31 16:18:08--  https://raw.githubusercontent.com/cmantas/keras_seq2seq/master/helpers.py\n",
            "Resolving raw.githubusercontent.com (raw.githubusercontent.com)... 151.101.0.133, 151.101.64.133, 151.101.128.133, ...\n",
            "Connecting to raw.githubusercontent.com (raw.githubusercontent.com)|151.101.0.133|:443... connected.\n",
            "HTTP request sent, awaiting response... 200 OK\n",
            "Length: 10541 (10K) [text/plain]\n",
            "Saving to: ‘helpers.py’\n",
            "\n",
            "\rhelpers.py            0%[                    ]       0  --.-KB/s               \rhelpers.py          100%[===================>]  10.29K  --.-KB/s    in 0s      \n",
            "\n",
            "2018-10-31 16:18:08 (91.5 MB/s) - ‘helpers.py’ saved [10541/10541]\n",
            "\n",
            "/dev/null: Scheme missing.\n",
            "FINISHED --2018-10-31 16:18:08--\n",
            "Total wall clock time: 1.4s\n",
            "Downloaded: 1 files, 10K in 0s (91.5 MB/s)\n"
          ],
          "name": "stdout"
        }
      ]
    },
    {
      "metadata": {
        "id": "sB9EGj_6oFzE",
        "colab_type": "code",
        "colab": {
          "base_uri": "https://localhost:8080/",
          "height": 55
        },
        "outputId": "d3f5bce1-c9ef-48aa-cf18-99ce188b60a4"
      },
      "cell_type": "code",
      "source": [
        "from google.colab import drive\n",
        "drive.mount('/drive')"
      ],
      "execution_count": 4,
      "outputs": [
        {
          "output_type": "stream",
          "text": [
            "Drive already mounted at /drive; to attempt to forcibly remount, call drive.mount(\"/drive\", force_remount=True).\n"
          ],
          "name": "stdout"
        }
      ]
    },
    {
      "metadata": {
        "id": "ssnwOSf8oTLU",
        "colab_type": "code",
        "colab": {}
      },
      "cell_type": "code",
      "source": [
        ""
      ],
      "execution_count": 0,
      "outputs": []
    },
    {
      "metadata": {
        "id": "wy1nlSWwgaeb",
        "colab_type": "text"
      },
      "cell_type": "markdown",
      "source": [
        "Sentences from the [tatoeba dataset](https://tatoeba.org/eng/downloads)"
      ]
    },
    {
      "metadata": {
        "id": "beNmQf7Ggaee",
        "colab_type": "code",
        "colab": {}
      },
      "cell_type": "code",
      "source": [
        "epochs = 50  # Number of epochs to train for.\n",
        "train_size =200000 # Number of samples to train on.\n",
        "val_size = 2000\n",
        "# Path to the txt file on disk.\n",
        "data_path = '/drive/My Drive/ML/sentences.txt'\n",
        "\n",
        "noise = .05\n",
        "misspellings_count = 3\n",
        "batch_size = 1000  # Batch size for training.\n",
        "\n",
        "optimizer= 'adam'\n",
        "loss_fn='categorical_crossentropy'\n",
        "# Hand-pick maximum sequence lengths\n",
        "max_string_length = 25 # max (allowed) input string length\n",
        "max_seq_length = 30 # accomodate for the delimiters + spelling correction\n"
      ],
      "execution_count": 0,
      "outputs": []
    },
    {
      "metadata": {
        "id": "y1OV04FfWo-d",
        "colab_type": "code",
        "colab": {}
      },
      "cell_type": "code",
      "source": [
        ""
      ],
      "execution_count": 0,
      "outputs": []
    },
    {
      "metadata": {
        "id": "YUU8yMQGgaeu",
        "colab_type": "code",
        "colab": {
          "base_uri": "https://localhost:8080/",
          "height": 269
        },
        "outputId": "5d132c55-c253-425d-8f90-16293772318a"
      },
      "cell_type": "code",
      "source": [
        "all_phrases = load_preprocessed(data_path, max_string_length)\n",
        "assert len(all_phrases) > train_size + val_size\n",
        "train_phrases = all_phrases[:train_size]\n",
        "test_phrases = all_phrases[train_size: train_size + val_size]\n",
        "\n",
        "print('All phrases in dataset: ', len(all_phrases))\n",
        "print('Training phrases: ', len(train_phrases))\n",
        "print('Test phrases: ', len(test_phrases))\n",
        "\n",
        "print(\"\\n * \".join(['Examples:'] + all_phrases[:10]))"
      ],
      "execution_count": 9,
      "outputs": [
        {
          "output_type": "stream",
          "text": [
            "All phrases in dataset:  239820\n",
            "Training phrases:  200000\n",
            "Test phrases:  2000\n",
            "Examples:\n",
            " * tom is reading a book now\n",
            " * tom is quite strong\n",
            " * what did you just do?\n",
            " * tom unloaded the car\n",
            " * you aren't hurt\n",
            " * i had a hard time\n",
            " * tom actually likes me\n",
            " * i'm loaded\n",
            " * i began working\n",
            " * how was the interview?\n"
          ],
          "name": "stdout"
        }
      ]
    },
    {
      "metadata": {
        "id": "LGCbVmq9gae9",
        "colab_type": "code",
        "colab": {
          "base_uri": "https://localhost:8080/",
          "height": 35
        },
        "outputId": "ae09aed6-dae6-4a31-ac5d-1dd2624bf88c"
      },
      "cell_type": "code",
      "source": [
        "# create doken indices out of all phrases\n",
        "token_idx = token_index(all_phrases + ['\\t', '\\n'])\n",
        "# ^^ \\t and \\n are our [START] and [END] delimiters. With this trick\n",
        "# we are adding them to the token index\n",
        "\n",
        "num_encoder_tokens = len(token_idx)\n",
        "\n",
        "print('Number of unique tokens:', num_encoder_tokens)"
      ],
      "execution_count": 10,
      "outputs": [
        {
          "output_type": "stream",
          "text": [
            "Number of unique tokens: 57\n"
          ],
          "name": "stdout"
        }
      ]
    },
    {
      "metadata": {
        "id": "tJjlQ1x_MVHH",
        "colab_type": "code",
        "colab": {}
      },
      "cell_type": "code",
      "source": [
        "def simple_lstm(output_len, token_count):\n",
        "    \"\"\"Generate the model\"\"\"\n",
        "    latent_dim = 1024  # Latent dimensionality of the encoding space.\n",
        "    initializer = 'he_normal'\n",
        "\n",
        "    # \"Encode\" the input sequence using an RNN, producing an output of HIDDEN_SIZE\n",
        "    # note: in a situation where your input sequences have a variable length,\n",
        "    # use input_shape=(None, nb_feature).\n",
        "    encoder = LSTM(latent_dim, input_shape=(None, token_count), \n",
        "                   kernel_initializer=initializer)\n",
        "\n",
        "    # For the decoder's input, we repeat the encoded input for each time step\n",
        "    repeater = RepeatVector(output_len)\n",
        "\n",
        "    decoder = LSTM(latent_dim, return_sequences=True, kernel_initializer=initializer)\n",
        "\n",
        "    # For each of step of the output sequence, decide which character should be chosen\n",
        "    time_dist = TimeDistributed(Dense(token_count, kernel_initializer=initializer))\n",
        "    activation = Activation('softmax')\n",
        "    \n",
        "    model = Sequential([encoder, repeater, decoder, time_dist, activation])\n",
        "\n",
        "    model.compile(loss='categorical_crossentropy', optimizer='adam', metrics=['accuracy'])\n",
        "    return model"
      ],
      "execution_count": 0,
      "outputs": []
    },
    {
      "metadata": {
        "id": "gaJaJF-muQ0X",
        "colab_type": "code",
        "colab": {}
      },
      "cell_type": "code",
      "source": [
        "def deep_lstm(output_len, token_count):\n",
        "    \"\"\"Generate the model\"\"\"\n",
        "    latent_dim = 256  # Latent dimensionality of the encoding space.\n",
        "    initializer = 'he_normal'\n",
        "\n",
        "    # \"Encode\" the input sequence using an RNN, producing an output of HIDDEN_SIZE\n",
        "    # note: in a situation where your input sequences have a variable length,\n",
        "    # use input_shape=(None, nb_feature).\n",
        "    encoder_1 = LSTM(latent_dim, input_shape=(None, token_count),\n",
        "                     return_sequences=True,\n",
        "                     kernel_initializer=initializer)\n",
        "    \n",
        "    dropout1 = Dropout(.05)\n",
        "\n",
        "    encoder_2 = LSTM(latent_dim, input_shape=(None, token_count),\n",
        "                 kernel_initializer=initializer)\n",
        "\n",
        "    # For the decoder's input, we repeat the encoded input for each time step\n",
        "    repeater = RepeatVector(output_len)\n",
        "\n",
        "    decoder_1 = LSTM(latent_dim, return_sequences=True, kernel_initializer=initializer)\n",
        "    dropout2 = Dropout(.05)\n",
        "    decoder_2 = LSTM(latent_dim, return_sequences=True, kernel_initializer=initializer)\n",
        "\n",
        "    # For each of step of the output sequence, decide which character should be chosen\n",
        "    time_dist = TimeDistributed(Dense(token_count, kernel_initializer=initializer))\n",
        "    activation = Activation('softmax')\n",
        "    \n",
        "    model = Sequential([encoder_1, dropout1, encoder_2,\n",
        "                        repeater, \n",
        "                        decoder_1, dropout2, decoder_2, \n",
        "                        time_dist, activation])\n",
        "\n",
        "    model.compile(loss='categorical_crossentropy', optimizer='adam', metrics=['accuracy'])\n",
        "    return model\n",
        "  \n",
        "def simple_lstm_2(output_len, token_count):\n",
        "  # 50 epoch: loss: 0.0928 - acc: 0.7668 - val_loss: 0.1042 - val_acc: 0.7663\n",
        "  \"\"\"Generate the model\"\"\"\n",
        "  latent_dim = 512  # Latent dimensionality of the encoding space.\n",
        "\n",
        "  # \"Encode\" the input sequence using an RNN, producing an output of HIDDEN_SIZE\n",
        "  # note: in a situation where your input sequences have a variable length,\n",
        "  # use input_shape=(None, nb_feature).\n",
        "  encoder = LSTM(latent_dim, return_sequences=True,\n",
        "                 input_shape=(output_len, token_count))\n",
        "\n",
        "  # For the decoder's input, we repeat the encoded input for each time step\n",
        "  #repeater = RepeatVector(output_len)\n",
        "\n",
        "  decoder = LSTM(latent_dim, return_sequences=True)\n",
        "\n",
        "  # For each of step of the output sequence, decide which character should be chosen\n",
        "  time_dist = TimeDistributed(Dense(token_count,  activation='softmax'))\n",
        "  #activation = Activation('softmax')\n",
        "\n",
        "  model = Sequential([encoder, decoder, time_dist])\n",
        "\n",
        "  model.compile(loss='categorical_crossentropy', optimizer='adam', metrics=['accuracy'])\n",
        "  return model\n",
        "\n",
        "\n",
        "def bidrectional_lstm(output_len, token_count):\n",
        "  \"\"\"Generate the model\"\"\"\n",
        "  latent_dim = 512  # Latent dimensionality of the encoding space.\n",
        "\n",
        "  layers = [\n",
        "      # something like an encoder\n",
        "      Bidirectional(LSTM(latent_dim, return_sequences=True, dropout=.2, \n",
        "                         recurrent_dropout=0.2),\n",
        "                    input_shape=(output_len, token_count)),\n",
        "      \n",
        "      # ~decoder\n",
        "      LSTM(latent_dim, return_sequences=True, dropout=.2),\n",
        "      \n",
        "      # time-distr activation\n",
        "      TimeDistributed(Dense(token_count)),\n",
        "      TimeDistributed(Dense(token_count,  activation='softmax')),\n",
        "  ]\n",
        "\n",
        "  model = Sequential(layers)\n",
        "\n",
        "  model.compile(loss='categorical_crossentropy', optimizer='adam', \n",
        "                metrics=['accuracy'])\n",
        "  return model"
      ],
      "execution_count": 0,
      "outputs": []
    },
    {
      "metadata": {
        "id": "mlLT8CCQgafU",
        "colab_type": "code",
        "colab": {}
      },
      "cell_type": "code",
      "source": [
        "gen_model = bidrectional_lstm"
      ],
      "execution_count": 0,
      "outputs": []
    },
    {
      "metadata": {
        "id": "WQvM3NLMv0K0",
        "colab_type": "code",
        "colab": {}
      },
      "cell_type": "code",
      "source": [
        ""
      ],
      "execution_count": 0,
      "outputs": []
    },
    {
      "metadata": {
        "id": "rgmeSgicgafg",
        "colab_type": "code",
        "colab": {}
      },
      "cell_type": "code",
      "source": [
        "val_misspellings, val_correct = create_misspellings(test_phrases[:2000],\n",
        "                                            noise, misspellings_count,\n",
        "                                            max_seq_length)\n",
        "\n",
        "val_X = vectorize_batch(val_misspellings, token_idx,\n",
        "                  max_seq_length, dtype=np.bool)\n",
        "val_Y = vectorize_batch(wrap_with_delims(val_correct), token_idx,\n",
        "                  max_seq_length, dtype=np.bool)"
      ],
      "execution_count": 0,
      "outputs": []
    },
    {
      "metadata": {
        "id": "ppH0bcGn1q4E",
        "colab_type": "code",
        "colab": {}
      },
      "cell_type": "code",
      "source": [
        ""
      ],
      "execution_count": 0,
      "outputs": []
    },
    {
      "metadata": {
        "id": "GVN4uBM5gaft",
        "colab_type": "code",
        "colab": {}
      },
      "cell_type": "code",
      "source": [
        "# early_stopping = EarlyStopping(monitor='val_loss', min_delta=.005, \n",
        "#                                patience=3, verbose=0, mode='auto')"
      ],
      "execution_count": 0,
      "outputs": []
    },
    {
      "metadata": {
        "id": "IQlrrEnDkNSJ",
        "colab_type": "code",
        "colab": {}
      },
      "cell_type": "code",
      "source": [
        ""
      ],
      "execution_count": 0,
      "outputs": []
    },
    {
      "metadata": {
        "id": "YKDRTwMZwzNl",
        "colab_type": "code",
        "colab": {}
      },
      "cell_type": "code",
      "source": [
        ""
      ],
      "execution_count": 0,
      "outputs": []
    },
    {
      "metadata": {
        "id": "v7Y4JCYfgag3",
        "colab_type": "code",
        "colab": {}
      },
      "cell_type": "code",
      "source": [
        "def batcher(phrases, batch_size):\n",
        "  for i in range(0, len(phrases), batch_size):\n",
        "    frrom = i\n",
        "    to = i+batch_size\n",
        "    yield phrases[frrom:to]\n",
        "\n",
        "def chunkify(lst,n):\n",
        "  return [lst[i::n] for i in range(n)]\n",
        "    \n",
        "def misspelled_gen(phrases, batch_size, noise, misspellings_count,\n",
        "                  max_seq_length):\n",
        "  gen = batcher(phrases, batch_size)\n",
        "  for batch in gen:\n",
        "    misspelled, correct = create_misspellings(batch,\n",
        "                                      noise, misspellings_count,\n",
        "                                      max_seq_length)\n",
        "    mis_chunks = chunkify(misspelled, misspellings_count + 1)\n",
        "    cor_chunks = chunkify(correct, misspellings_count + 1)\n",
        "    \n",
        "    yield from zip(mis_chunks, cor_chunks)"
      ],
      "execution_count": 0,
      "outputs": []
    },
    {
      "metadata": {
        "id": "VEVe0e5dL21Q",
        "colab_type": "code",
        "colab": {}
      },
      "cell_type": "code",
      "source": [
        "def training_gen(phrases, batch_size, noise, misspellings_count,\n",
        "                  max_seq_length, token_idx):\n",
        "\n",
        "  while True:\n",
        "    Random().shuffle(phrases)\n",
        "    mis_gen = misspelled_gen(phrases, batch_size, noise, misspellings_count,\n",
        "                             max_seq_length)\n",
        "    for mis, cor in mis_gen:\n",
        "      X = vectorize_batch(mis, token_idx,\n",
        "                          max_seq_length, dtype=np.bool)\n",
        "      Y = vectorize_batch(wrap_with_delims(cor), token_idx,\n",
        "                          max_seq_length, dtype=np.bool)\n",
        "      yield (X, Y)"
      ],
      "execution_count": 0,
      "outputs": []
    },
    {
      "metadata": {
        "id": "dBengM8jLTGL",
        "colab_type": "code",
        "colab": {}
      },
      "cell_type": "code",
      "source": [
        "steps_per_epoch = (len(train_phrases) *(misspellings_count + 1) / batch_size)#30 <-for test"
      ],
      "execution_count": 0,
      "outputs": []
    },
    {
      "metadata": {
        "id": "naZSSbWHgag-",
        "colab_type": "code",
        "colab": {
          "base_uri": "https://localhost:8080/",
          "height": 53
        },
        "outputId": "8d17f918-6008-4954-f2fb-40dc4f0ccaea"
      },
      "cell_type": "code",
      "source": [
        "gen = training_gen(train_phrases, batch_size, noise, misspellings_count, \n",
        "                   max_seq_length, token_idx)\n",
        "\n",
        "model = gen_model(max_seq_length, len(token_idx))\n",
        "# early_stopping = EarlyStopping(monitor='val_loss', min_delta=.005, \n",
        "#                                patience=3, verbose=0, mode='auto')\n",
        "\n",
        "hist = model.fit_generator(gen, validation_data=(val_X, val_Y),\n",
        "                    steps_per_epoch=steps_per_epoch,\n",
        "                    verbose=1, max_queue_size=1, epochs=epochs)"
      ],
      "execution_count": 0,
      "outputs": [
        {
          "output_type": "stream",
          "text": [
            "Epoch 1/50\n",
            "  7/800 [..............................] - ETA: 29:33 - loss: 2.8265 - acc: 0.0981"
          ],
          "name": "stdout"
        }
      ]
    },
    {
      "metadata": {
        "id": "vJxLPPN9wIZl",
        "colab_type": "code",
        "colab": {
          "base_uri": "https://localhost:8080/",
          "height": 35
        },
        "outputId": "438291a5-7ce9-4edb-eb0d-5a2a66259296"
      },
      "cell_type": "code",
      "source": [
        "dual_evaluate_batch(val_correct, val_misspellings, model, token_idx, \n",
        "                    max_seq_length)"
      ],
      "execution_count": 67,
      "outputs": [
        {
          "output_type": "execute_result",
          "data": {
            "text/plain": [
              "(0.0775, 0.515125)"
            ]
          },
          "metadata": {
            "tags": []
          },
          "execution_count": 67
        }
      ]
    },
    {
      "metadata": {
        "id": "2aS0cxO5uv1J",
        "colab_type": "code",
        "colab": {}
      },
      "cell_type": "code",
      "source": [
        "model.save('/drive/My Drive/ML/n_to_n_bidirectional_dropouts_2xtimedist_latent_dim_512.h5')"
      ],
      "execution_count": 0,
      "outputs": []
    },
    {
      "metadata": {
        "id": "jjmLgnzkzb_8",
        "colab_type": "code",
        "colab": {
          "base_uri": "https://localhost:8080/",
          "height": 377
        },
        "outputId": "cf0848ba-e475-4fa9-f53a-00ea7f7b1ad9"
      },
      "cell_type": "code",
      "source": [
        "plot_history(hist)"
      ],
      "execution_count": 15,
      "outputs": [
        {
          "output_type": "display_data",
          "data": {
            "image/png": "[encoded data removed]",
            "text/plain": [
              "<matplotlib.figure.Figure at 0x7fa735daa908>"
            ]
          },
          "metadata": {
            "tags": []
          }
        }
      ]
    },
    {
      "metadata": {
        "id": "kbvmmoH_utUS",
        "colab_type": "code",
        "colab": {}
      },
      "cell_type": "code",
      "source": [
        ""
      ],
      "execution_count": 0,
      "outputs": []
    },
    {
      "metadata": {
        "id": "vzp7-FHSgahB",
        "colab_type": "code",
        "colab": {}
      },
      "cell_type": "code",
      "source": [
        ""
      ],
      "execution_count": 0,
      "outputs": []
    },
    {
      "metadata": {
        "id": "LSRFCz-0gahF",
        "colab_type": "code",
        "colab": {}
      },
      "cell_type": "code",
      "source": [
        ""
      ],
      "execution_count": 0,
      "outputs": []
    },
    {
      "metadata": {
        "id": "Mrqwok5EgahM",
        "colab_type": "code",
        "colab": {}
      },
      "cell_type": "code",
      "source": [
        ""
      ],
      "execution_count": 0,
      "outputs": []
    },
    {
      "metadata": {
        "id": "sjAJ8MyLgahP",
        "colab_type": "code",
        "colab": {}
      },
      "cell_type": "code",
      "source": [
        ""
      ],
      "execution_count": 0,
      "outputs": []
    },
    {
      "metadata": {
        "id": "E4imo5GUgahV",
        "colab_type": "code",
        "colab": {}
      },
      "cell_type": "code",
      "source": [
        ""
      ],
      "execution_count": 0,
      "outputs": []
    },
    {
      "metadata": {
        "id": "MLe1Je4Rgahb",
        "colab_type": "code",
        "colab": {
          "base_uri": "https://localhost:8080/",
          "height": 163
        },
        "outputId": "b8664eb2-69f9-4d48-844a-788b31032f55"
      },
      "cell_type": "code",
      "source": [
        ""
      ],
      "execution_count": 1,
      "outputs": [
        {
          "output_type": "error",
          "ename": "NameError",
          "evalue": "ignored",
          "traceback": [
            "\u001b[0;31m---------------------------------------------------------------------------\u001b[0m",
            "\u001b[0;31mNameError\u001b[0m                                 Traceback (most recent call last)",
            "\u001b[0;32m<ipython-input-1-8c1153337866>\u001b[0m in \u001b[0;36m<module>\u001b[0;34m()\u001b[0m\n\u001b[0;32m----> 1\u001b[0;31m \u001b[0mplot_history\u001b[0m\u001b[0;34m(\u001b[0m\u001b[0mhist\u001b[0m\u001b[0;34m)\u001b[0m\u001b[0;34m\u001b[0m\u001b[0m\n\u001b[0m",
            "\u001b[0;31mNameError\u001b[0m: name 'plot_history' is not defined"
          ]
        }
      ]
    },
    {
      "metadata": {
        "id": "4UlT1J-Ygahf",
        "colab_type": "code",
        "colab": {}
      },
      "cell_type": "code",
      "source": [
        "\n"
      ],
      "execution_count": 0,
      "outputs": []
    },
    {
      "metadata": {
        "id": "mY9gbKCogahj",
        "colab_type": "code",
        "colab": {}
      },
      "cell_type": "code",
      "source": [
        "corrector = sequential_translator_fn(model, token_idx, max_seq_length)"
      ],
      "execution_count": 0,
      "outputs": []
    },
    {
      "metadata": {
        "id": "BC5T20RNgahs",
        "colab_type": "code",
        "colab": {
          "base_uri": "https://localhost:8080/",
          "height": 377
        },
        "outputId": "5d0b8be1-22fa-470c-f292-5250b4596ddd"
      },
      "cell_type": "code",
      "source": [
        "[(corrector(p), p, corrector(p) == p) for p in train_phrases[:20]]"
      ],
      "execution_count": 29,
      "outputs": [
        {
          "output_type": "execute_result",
          "data": {
            "text/plain": [
              "[('\\t                ', 'good to be here', False),\n",
              " ('\\t                   ', 'i need someone to hold me', False),\n",
              " ('\\t                  ', 'ann gave me this present', False),\n",
              " ('\\t                 ', 'tom has a lot of toys', False),\n",
              " ('\\t                 ', \"i'm furious with you\", False),\n",
              " ('\\t                 ', 'it was my first job', False),\n",
              " ('\\t                  ', \"here's a picture of her\", False),\n",
              " ('\\t                 ', 'mary loves australia', False),\n",
              " ('\\t                 ', 'is he married?', False),\n",
              " ('\\t                 ', 'this well is very deep', False),\n",
              " ('\\t                   ', \"we'd be foolish to do so\", False),\n",
              " ('\\t                 ', 'come meet everybody', False),\n",
              " ('\\t                 ', 'catch you later', False),\n",
              " ('\\t                 ', 'i wrote them a letter', False),\n",
              " ('\\t                 ', 'it kept me occupied', False),\n",
              " ('\\t                 ', 'it surprises me', False),\n",
              " ('\\t                 ', 'no one followed me', False),\n",
              " ('\\t                 ', \"that's not the point\", False),\n",
              " ('\\t                  ', 'he put on clean trousers', False),\n",
              " ('\\t                  ', \"we're doing all we can\", False)]"
            ]
          },
          "metadata": {
            "tags": []
          },
          "execution_count": 29
        }
      ]
    },
    {
      "metadata": {
        "id": "CM8Tr9R8gahw",
        "colab_type": "code",
        "colab": {
          "base_uri": "https://localhost:8080/",
          "height": 102
        },
        "outputId": "fd458bff-17fc-4ca6-8904-dbcedb2b2865"
      },
      "cell_type": "code",
      "source": [
        "print(evaluate_correct(train_phrases[:1000], corrector))\n",
        "print(evaluate_correct(train_phrases[-1000:], corrector))\n",
        "print(evaluate_misspelled(train_phrases[:1000], corrector))\n",
        "print(evaluate_correct(test_phrases[:1000], corrector))\n",
        "print(evaluate_misspelled(test_phrases[:1000], corrector))"
      ],
      "execution_count": 25,
      "outputs": [
        {
          "output_type": "stream",
          "text": [
            "0.032\n",
            "0.029\n",
            "0.398\n",
            "0.044\n",
            "0.444\n"
          ],
          "name": "stdout"
        }
      ]
    },
    {
      "metadata": {
        "id": "vEP2XCTkgah0",
        "colab_type": "code",
        "colab": {}
      },
      "cell_type": "code",
      "source": [
        "plot_history(model.history)"
      ],
      "execution_count": 0,
      "outputs": []
    },
    {
      "metadata": {
        "id": "ul5hf_MWgah4",
        "colab_type": "code",
        "colab": {}
      },
      "cell_type": "code",
      "source": [
        ""
      ],
      "execution_count": 0,
      "outputs": []
    },
    {
      "metadata": {
        "id": "s7dps9QGgakD",
        "colab_type": "code",
        "colab": {}
      },
      "cell_type": "code",
      "source": [
        ""
      ],
      "execution_count": 0,
      "outputs": []
    },
    {
      "metadata": {
        "id": "4BdJOyLbgakI",
        "colab_type": "code",
        "colab": {}
      },
      "cell_type": "code",
      "source": [
        "# find max encoder seq legth\n",
        "#max_encoder_seq_length = encoder_model.get_layer('encoder_inputs').input_shape[-1]\n",
        "phrases = ['fire', 'stp', 'comein', 'get ot', 'i cant go','im sorry', \n",
        "           'h is busi', 'hes drunk', 'ill be lat', 'hold mi beer', 'pus the buton', \n",
        "          'coll me on my phone', 'helo boys and girls']\n",
        "\n",
        "[corrector(phrase) for phrase in phrases]"
      ],
      "execution_count": 0,
      "outputs": []
    },
    {
      "metadata": {
        "id": "qBW7G7rogakR",
        "colab_type": "code",
        "colab": {
          "base_uri": "https://localhost:8080/",
          "height": 35
        },
        "outputId": "19c6fc09-081c-4d9b-abf9-c668a3d87479"
      },
      "cell_type": "code",
      "source": [
        "!hostname"
      ],
      "execution_count": 1,
      "outputs": [
        {
          "output_type": "stream",
          "text": [
            "f248df630aff\n"
          ],
          "name": "stdout"
        }
      ]
    },
    {
      "metadata": {
        "id": "nXbTxbJBgakU",
        "colab_type": "code",
        "colab": {}
      },
      "cell_type": "code",
      "source": [
        ""
      ],
      "execution_count": 0,
      "outputs": []
    },
    {
      "metadata": {
        "id": "MPPoEfGDgakY",
        "colab_type": "code",
        "colab": {}
      },
      "cell_type": "code",
      "source": [
        ""
      ],
      "execution_count": 0,
      "outputs": []
    },
    {
      "metadata": {
        "id": "u-9i902Pgakd",
        "colab_type": "code",
        "colab": {}
      },
      "cell_type": "code",
      "source": [
        ""
      ],
      "execution_count": 0,
      "outputs": []
    },
    {
      "metadata": {
        "id": "xWU7NTj7gakf",
        "colab_type": "code",
        "colab": {}
      },
      "cell_type": "code",
      "source": [
        ""
      ],
      "execution_count": 0,
      "outputs": []
    },
    {
      "metadata": {
        "id": "AG3PcZDwgakw",
        "colab_type": "code",
        "colab": {}
      },
      "cell_type": "code",
      "source": [
        ""
      ],
      "execution_count": 0,
      "outputs": []
    },
    {
      "metadata": {
        "id": "C61OoBikgak0",
        "colab_type": "code",
        "colab": {}
      },
      "cell_type": "code",
      "source": [
        ""
      ],
      "execution_count": 0,
      "outputs": []
    },
    {
      "metadata": {
        "id": "4VR31Tk4gak8",
        "colab_type": "code",
        "colab": {}
      },
      "cell_type": "code",
      "source": [
        ""
      ],
      "execution_count": 0,
      "outputs": []
    },
    {
      "metadata": {
        "id": "U8lTgVL8galA",
        "colab_type": "code",
        "colab": {}
      },
      "cell_type": "code",
      "source": [
        ""
      ],
      "execution_count": 0,
      "outputs": []
    },
    {
      "metadata": {
        "id": "xlqzuqNBgalE",
        "colab_type": "code",
        "colab": {}
      },
      "cell_type": "code",
      "source": [
        ""
      ],
      "execution_count": 0,
      "outputs": []
    },
    {
      "metadata": {
        "id": "rpoE0BQ8galH",
        "colab_type": "code",
        "colab": {}
      },
      "cell_type": "code",
      "source": [
        ""
      ],
      "execution_count": 0,
      "outputs": []
    },
    {
      "metadata": {
        "id": "Kdbx5ZVVgalX",
        "colab_type": "code",
        "colab": {}
      },
      "cell_type": "code",
      "source": [
        ""
      ],
      "execution_count": 0,
      "outputs": []
    },
    {
      "metadata": {
        "id": "AnJm4WAHgalb",
        "colab_type": "code",
        "colab": {}
      },
      "cell_type": "code",
      "source": [
        ""
      ],
      "execution_count": 0,
      "outputs": []
    },
    {
      "metadata": {
        "id": "IDo_-IYbgalf",
        "colab_type": "code",
        "colab": {}
      },
      "cell_type": "code",
      "source": [
        ""
      ],
      "execution_count": 0,
      "outputs": []
    },
    {
      "metadata": {
        "id": "ic83KDn7gali",
        "colab_type": "code",
        "colab": {}
      },
      "cell_type": "code",
      "source": [
        ""
      ],
      "execution_count": 0,
      "outputs": []
    }
  ]
}