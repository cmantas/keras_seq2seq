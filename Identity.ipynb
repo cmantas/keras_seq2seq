{
 "cells": [
  {
   "cell_type": "code",
   "execution_count": 2,
   "metadata": {
    "collapsed": true
   },
   "outputs": [],
   "source": [
    "from keras.models import Model, load_model, Sequential\n",
    "from keras.layers import Input, LSTM, Dense, RepeatVector, \\\n",
    "                         TimeDistributed, Activation\n",
    "    \n",
    "from helpers import *\n",
    "import importlib\n",
    "from importlib import reload\n",
    "from scipy.stats import hmean\n",
    "\n",
    "# ignore some Keras warnings regarding deprecations and model saving \n",
    "import warnings\n",
    "warnings.filterwarnings('ignore')"
   ]
  },
  {
   "cell_type": "markdown",
   "metadata": {},
   "source": [
    "Sentences from the [tatoeba dataset](https://tatoeba.org/eng/downloads)"
   ]
  },
  {
   "cell_type": "code",
   "execution_count": 3,
   "metadata": {
    "collapsed": true
   },
   "outputs": [],
   "source": [
    "batch_size = 128  # Batch size for training.\n",
    "latent_dim = 256  # Latent dimensionality of the encoding space.\n",
    "num_samples =40000 # Number of samples to train on.\n",
    "# Path to the datatxt file on disk.\n",
    "data_path = 'sentences.txt'\n",
    "\n",
    "epochs = 150 # Number of epochs to train for.\n"
   ]
  },
  {
   "cell_type": "code",
   "execution_count": 4,
   "metadata": {
    "collapsed": true
   },
   "outputs": [],
   "source": [
    "# Hand-pick maximum sequence lengths\n",
    "max_seq_length = 30"
   ]
  },
  {
   "cell_type": "code",
   "execution_count": 5,
   "metadata": {
    "collapsed": true
   },
   "outputs": [],
   "source": [
    "def load_preprocessed(data_path, max_len):\n",
    "    \"\"\"Dirty helper fn loading a file from disk, doing some basic preprocessing\n",
    "        and filtering out phrases that are longer than our maximum sequence length\"\"\"\n",
    "    with open(data_path) as f:\n",
    "        lines = f.readlines()\n",
    "    lines = text_preprocess(lines)\n",
    "    # allow only for a limited count of \n",
    "    allowed_chars = set(' !\"#$%&\\'()+,-./0123456789:;?[]_`abcdefghijklmnopqrstuvwxyz{}')\n",
    "    selected = []\n",
    "    for l in lines:\n",
    "        if all([c in allowed_chars for c in l.strip()]) and \\\n",
    "           len(l) <= max_len:\n",
    "            selected.append(l)\n",
    "    # suffle deterministically\n",
    "    Random(0).shuffle(selected)\n",
    "    return selected"
   ]
  },
  {
   "cell_type": "code",
   "execution_count": 22,
   "metadata": {},
   "outputs": [
    {
     "name": "stdout",
     "output_type": "stream",
     "text": [
      "All phrases in dataset:  400082\n",
      "Training phrases:  40000\n",
      "Test phrases:  1000\n",
      "Examples:\n",
      " * tom looked like a rich man\n",
      " * i don't see why this is news\n",
      " * tom will figure it out\n",
      " * tom went on talking\n",
      " * i didn't ask for your opinions\n",
      " * only tom can answer that\n",
      " * please, do not get excited\n",
      " * he is extremely unbiased\n",
      " * what's stopping you?\n",
      " * don't make me leave\n"
     ]
    }
   ],
   "source": [
    "all_phrases = load_preprocessed(data_path, max_seq_length)\n",
    "train_phrases = all_phrases[:num_samples]\n",
    "test_phrases = all_phrases[num_samples:num_samples + 1000]\n",
    "print('All phrases in dataset: ', len(all_phrases))\n",
    "print('Training phrases: ', len(train_phrases))\n",
    "print('Test phrases: ', len(test_phrases))\n",
    "\n",
    "print(\"\\n * \".join(['Examples:'] + all_phrases[:10]))"
   ]
  },
  {
   "cell_type": "code",
   "execution_count": null,
   "metadata": {
    "collapsed": true
   },
   "outputs": [],
   "source": []
  },
  {
   "cell_type": "code",
   "execution_count": 8,
   "metadata": {},
   "outputs": [
    {
     "name": "stdout",
     "output_type": "stream",
     "text": [
      "Number of unique tokens: 57\n"
     ]
    }
   ],
   "source": [
    "# create doken indices out of all phrases\n",
    "token_idx = token_index(all_phrases + ['\\t', '\\n'])\n",
    "# ^^ \\t and \\n are our [START] and [END] delimiters. With this trick\n",
    "# we are adding them to the token index\n",
    "\n",
    "num_encoder_tokens = len(token_idx)\n",
    "\n",
    "print('Number of unique tokens:', num_encoder_tokens)"
   ]
  },
  {
   "cell_type": "code",
   "execution_count": null,
   "metadata": {
    "collapsed": true
   },
   "outputs": [],
   "source": []
  },
  {
   "cell_type": "code",
   "execution_count": null,
   "metadata": {
    "collapsed": true
   },
   "outputs": [],
   "source": []
  },
  {
   "cell_type": "code",
   "execution_count": null,
   "metadata": {
    "collapsed": true
   },
   "outputs": [],
   "source": []
  },
  {
   "cell_type": "code",
   "execution_count": null,
   "metadata": {
    "collapsed": true
   },
   "outputs": [],
   "source": []
  },
  {
   "cell_type": "code",
   "execution_count": null,
   "metadata": {
    "collapsed": true
   },
   "outputs": [],
   "source": []
  },
  {
   "cell_type": "code",
   "execution_count": null,
   "metadata": {
    "collapsed": true
   },
   "outputs": [],
   "source": [
    "\n"
   ]
  },
  {
   "cell_type": "code",
   "execution_count": null,
   "metadata": {
    "collapsed": true
   },
   "outputs": [],
   "source": []
  },
  {
   "cell_type": "code",
   "execution_count": 24,
   "metadata": {
    "collapsed": true
   },
   "outputs": [],
   "source": [
    "def simple_lstm(output_len, token_count):\n",
    "    \"\"\"Generate the model\"\"\"\n",
    "    initializer = 'he_normal'\n",
    "    model = Sequential()\n",
    "    # \"Encode\" the input sequence using an RNN, producing an output of HIDDEN_SIZE\n",
    "    # note: in a situation where your input sequences have a variable length,\n",
    "    # use input_shape=(None, nb_feature).\n",
    "    encoder = LSTM(latent_dim, input_shape=(None, token_count), \n",
    "                   kernel_initializer=initializer)\n",
    "    model.add(encoder)\n",
    "\n",
    "    # For the decoder's input, we repeat the encoded input for each time step\n",
    "    model.add(RepeatVector(output_len))\n",
    "    # The decoder RNN could be multiple layers stacked or a single layer\n",
    "\n",
    "    decoder = LSTM(latent_dim, return_sequences=True, kernel_initializer=initializer)\n",
    "    model.add(decoder)\n",
    "\n",
    "    # For each of step of the output sequence, decide which character should be chosen\n",
    "    model.add(TimeDistributed(Dense(token_count, kernel_initializer=initializer)))\n",
    "    model.add(Activation('softmax'))\n",
    "\n",
    "    model.compile(loss='categorical_crossentropy', optimizer='adam', metrics=['accuracy'])\n",
    "    return model\n"
   ]
  },
  {
   "cell_type": "code",
   "execution_count": 25,
   "metadata": {},
   "outputs": [
    {
     "data": {
      "text/plain": [
       "['\\ttom looked like a rich man\\n',\n",
       " \"\\ti don't see why this is news\\n\",\n",
       " '\\ttom will figure it out\\n']"
      ]
     },
     "execution_count": 25,
     "metadata": {},
     "output_type": "execute_result"
    }
   ],
   "source": [
    "# adds \\t and \\n delimiters at the begining and end of each phrase\n",
    "wrapped_train_phrases =  wrap_with_delims(train_phrases)\n",
    "wrapped_train_phrases[:3]"
   ]
  },
  {
   "cell_type": "code",
   "execution_count": 26,
   "metadata": {
    "collapsed": true
   },
   "outputs": [],
   "source": [
    "max_target_seq_length = max_seq_length + 2 # accomodate for the delimiters"
   ]
  },
  {
   "cell_type": "code",
   "execution_count": 27,
   "metadata": {
    "collapsed": true
   },
   "outputs": [],
   "source": [
    "model = simple_lstm(max_target_seq_length, len(token_idx))"
   ]
  },
  {
   "cell_type": "code",
   "execution_count": null,
   "metadata": {
    "collapsed": true
   },
   "outputs": [],
   "source": []
  },
  {
   "cell_type": "code",
   "execution_count": 28,
   "metadata": {
    "collapsed": true
   },
   "outputs": [],
   "source": [
    "X = vectorize_batch(train_phrases, token_idx, max_seq_length, dtype=np.bool)\n",
    "Y = vectorize_batch(wrapped_train_phrases, token_idx, max_target_seq_length, dtype=np.bool)"
   ]
  },
  {
   "cell_type": "code",
   "execution_count": 31,
   "metadata": {
    "collapsed": true
   },
   "outputs": [
    {
     "name": "stdout",
     "output_type": "stream",
     "text": [
      "Train on 36800 samples, validate on 3200 samples\n",
      "Epoch 1/100\n",
      "36800/36800 [==============================] - 52s 1ms/step - loss: 1.8198 - acc: 0.2628 - val_loss: 1.7032 - val_acc: 0.2863\n",
      "Epoch 2/100\n",
      "36800/36800 [==============================] - 52s 1ms/step - loss: 1.6217 - acc: 0.3028 - val_loss: 1.5203 - val_acc: 0.3236\n",
      "Epoch 3/100\n",
      "36800/36800 [==============================] - 52s 1ms/step - loss: 1.4562 - acc: 0.3377 - val_loss: 1.3772 - val_acc: 0.3542\n",
      "Epoch 4/100\n",
      "36800/36800 [==============================] - 52s 1ms/step - loss: 1.3237 - acc: 0.3690 - val_loss: 1.2542 - val_acc: 0.3878\n",
      "Epoch 5/100\n",
      "36800/36800 [==============================] - 52s 1ms/step - loss: 1.2067 - acc: 0.3987 - val_loss: 1.1529 - val_acc: 0.4114\n",
      "Epoch 6/100\n",
      "36800/36800 [==============================] - 52s 1ms/step - loss: 1.1114 - acc: 0.4242 - val_loss: 1.0551 - val_acc: 0.4408\n",
      "Epoch 7/100\n",
      "36800/36800 [==============================] - 52s 1ms/step - loss: 1.0238 - acc: 0.4494 - val_loss: 0.9779 - val_acc: 0.4618\n",
      "Epoch 8/100\n",
      "36800/36800 [==============================] - 52s 1ms/step - loss: 0.9463 - acc: 0.4731 - val_loss: 0.9255 - val_acc: 0.4784\n",
      "Epoch 9/100\n",
      "36800/36800 [==============================] - 52s 1ms/step - loss: 0.8763 - acc: 0.4950 - val_loss: 0.8511 - val_acc: 0.5020\n",
      "Epoch 10/100\n",
      "36800/36800 [==============================] - 52s 1ms/step - loss: 0.8079 - acc: 0.5183 - val_loss: 0.8108 - val_acc: 0.5157\n",
      "Epoch 11/100\n",
      "36800/36800 [==============================] - 52s 1ms/step - loss: 0.7638 - acc: 0.5328 - val_loss: 0.7394 - val_acc: 0.5402\n",
      "Epoch 12/100\n",
      "36800/36800 [==============================] - 54s 1ms/step - loss: 0.6997 - acc: 0.5555 - val_loss: 0.7118 - val_acc: 0.5488\n",
      "Epoch 13/100\n",
      "36800/36800 [==============================] - 60s 2ms/step - loss: 0.6565 - acc: 0.5701 - val_loss: 0.7125 - val_acc: 0.5455\n",
      "Epoch 14/100\n",
      "36800/36800 [==============================] - 59s 2ms/step - loss: 0.6181 - acc: 0.5834 - val_loss: 0.6224 - val_acc: 0.5821\n",
      "Epoch 15/100\n",
      "36800/36800 [==============================] - 60s 2ms/step - loss: 0.5623 - acc: 0.6036 - val_loss: 0.5489 - val_acc: 0.6071\n",
      "Epoch 16/100\n",
      "36800/36800 [==============================] - 60s 2ms/step - loss: 0.5545 - acc: 0.6056 - val_loss: 0.5473 - val_acc: 0.6097\n",
      "Epoch 17/100\n",
      "36800/36800 [==============================] - 60s 2ms/step - loss: 0.4891 - acc: 0.6293 - val_loss: 0.5059 - val_acc: 0.6225\n",
      "Epoch 18/100\n",
      "36800/36800 [==============================] - 59s 2ms/step - loss: 0.4693 - acc: 0.6358 - val_loss: 0.4886 - val_acc: 0.6268\n",
      "Epoch 19/100\n",
      "36800/36800 [==============================] - 60s 2ms/step - loss: 0.4503 - acc: 0.6425 - val_loss: 0.4433 - val_acc: 0.6446\n",
      "Epoch 20/100\n",
      "36800/36800 [==============================] - 59s 2ms/step - loss: 0.4240 - acc: 0.6515 - val_loss: 0.4278 - val_acc: 0.6506\n",
      "Epoch 21/100\n",
      "36800/36800 [==============================] - 59s 2ms/step - loss: 0.4108 - acc: 0.6578 - val_loss: 0.3988 - val_acc: 0.6603\n",
      "Epoch 22/100\n",
      "36800/36800 [==============================] - 59s 2ms/step - loss: 0.3847 - acc: 0.6652 - val_loss: 0.4800 - val_acc: 0.6290\n",
      "Epoch 23/100\n",
      "36800/36800 [==============================] - 58s 2ms/step - loss: 0.3698 - acc: 0.6707 - val_loss: 0.5446 - val_acc: 0.6102\n",
      "Epoch 24/100\n",
      "36800/36800 [==============================] - 58s 2ms/step - loss: 0.3442 - acc: 0.6792 - val_loss: 0.3541 - val_acc: 0.6754\n",
      "Epoch 25/100\n",
      "36800/36800 [==============================] - 58s 2ms/step - loss: 0.3032 - acc: 0.6935 - val_loss: 0.4013 - val_acc: 0.6601\n",
      "Epoch 26/100\n",
      "36800/36800 [==============================] - 58s 2ms/step - loss: 0.2905 - acc: 0.6980 - val_loss: 0.3125 - val_acc: 0.6899\n",
      "Epoch 27/100\n",
      "36800/36800 [==============================] - 58s 2ms/step - loss: 0.3007 - acc: 0.6949 - val_loss: 0.3148 - val_acc: 0.6889\n",
      "Epoch 28/100\n",
      "36800/36800 [==============================] - 58s 2ms/step - loss: 0.3008 - acc: 0.6943 - val_loss: 0.4120 - val_acc: 0.6576\n",
      "Epoch 29/100\n",
      "36800/36800 [==============================] - 58s 2ms/step - loss: 0.2807 - acc: 0.7015 - val_loss: 0.2842 - val_acc: 0.6986\n",
      "Epoch 30/100\n",
      "36800/36800 [==============================] - 58s 2ms/step - loss: 0.2629 - acc: 0.7081 - val_loss: 0.2637 - val_acc: 0.7051\n",
      "Epoch 31/100\n",
      "36800/36800 [==============================] - 58s 2ms/step - loss: 0.2545 - acc: 0.7101 - val_loss: 0.2581 - val_acc: 0.7090\n",
      "Epoch 32/100\n",
      "36800/36800 [==============================] - 58s 2ms/step - loss: 0.2295 - acc: 0.7185 - val_loss: 0.2800 - val_acc: 0.7015\n",
      "Epoch 33/100\n",
      "36800/36800 [==============================] - 58s 2ms/step - loss: 0.2203 - acc: 0.7219 - val_loss: 0.3799 - val_acc: 0.6683\n",
      "Epoch 34/100\n",
      "36800/36800 [==============================] - 58s 2ms/step - loss: 0.2472 - acc: 0.7128 - val_loss: 0.2284 - val_acc: 0.7183\n",
      "Epoch 35/100\n",
      "36800/36800 [==============================] - 58s 2ms/step - loss: 0.2025 - acc: 0.7274 - val_loss: 0.2725 - val_acc: 0.7020\n",
      "Epoch 36/100\n",
      "36800/36800 [==============================] - 58s 2ms/step - loss: 0.1877 - acc: 0.7321 - val_loss: 0.2142 - val_acc: 0.7233\n",
      "Epoch 37/100\n",
      "36800/36800 [==============================] - 58s 2ms/step - loss: 0.2473 - acc: 0.7140 - val_loss: 0.2205 - val_acc: 0.7214\n",
      "Epoch 38/100\n",
      "36800/36800 [==============================] - 58s 2ms/step - loss: 0.1935 - acc: 0.7307 - val_loss: 0.2282 - val_acc: 0.7183\n",
      "Epoch 39/100\n",
      "36800/36800 [==============================] - 58s 2ms/step - loss: 0.1516 - acc: 0.7446 - val_loss: 0.1976 - val_acc: 0.7287\n",
      "Epoch 40/100\n",
      "36800/36800 [==============================] - 58s 2ms/step - loss: 0.1654 - acc: 0.7395 - val_loss: 0.5461 - val_acc: 0.6473\n",
      "Epoch 41/100\n",
      "36800/36800 [==============================] - 58s 2ms/step - loss: 0.2239 - acc: 0.7227 - val_loss: 0.1858 - val_acc: 0.7325\n",
      "Epoch 42/100\n",
      "36800/36800 [==============================] - 58s 2ms/step - loss: 0.1935 - acc: 0.7310 - val_loss: 0.1981 - val_acc: 0.7289\n",
      "Epoch 43/100\n",
      "36800/36800 [==============================] - 56s 2ms/step - loss: 0.1893 - acc: 0.7320 - val_loss: 0.2028 - val_acc: 0.7272\n",
      "Epoch 44/100\n",
      "36800/36800 [==============================] - 55s 1ms/step - loss: 0.1360 - acc: 0.7496 - val_loss: 0.4464 - val_acc: 0.6802\n",
      "Epoch 45/100\n",
      "36800/36800 [==============================] - 55s 2ms/step - loss: 0.1600 - acc: 0.7420 - val_loss: 0.1722 - val_acc: 0.7376\n",
      "Epoch 46/100\n",
      "36800/36800 [==============================] - 55s 1ms/step - loss: 0.1398 - acc: 0.7483 - val_loss: 0.2817 - val_acc: 0.7086\n",
      "Epoch 47/100\n",
      "36800/36800 [==============================] - 55s 2ms/step - loss: 0.1717 - acc: 0.7383 - val_loss: 0.1684 - val_acc: 0.7385\n",
      "Epoch 48/100\n",
      "36800/36800 [==============================] - 55s 2ms/step - loss: 0.1901 - acc: 0.7329 - val_loss: 0.1855 - val_acc: 0.7337\n",
      "Epoch 49/100\n",
      "36800/36800 [==============================] - 55s 2ms/step - loss: 0.1162 - acc: 0.7567 - val_loss: 0.1551 - val_acc: 0.7422\n",
      "Epoch 50/100\n",
      "36800/36800 [==============================] - 55s 2ms/step - loss: 0.1212 - acc: 0.7553 - val_loss: 0.2932 - val_acc: 0.7002\n",
      "Epoch 51/100\n",
      "36800/36800 [==============================] - 55s 2ms/step - loss: 0.1756 - acc: 0.7369 - val_loss: 0.1786 - val_acc: 0.7351\n",
      "Epoch 52/100\n",
      "36800/36800 [==============================] - 55s 2ms/step - loss: 0.1186 - acc: 0.7551 - val_loss: 0.1522 - val_acc: 0.7441\n",
      "Epoch 53/100\n",
      "36800/36800 [==============================] - 55s 2ms/step - loss: 0.1869 - acc: 0.7369 - val_loss: 0.1522 - val_acc: 0.7431\n",
      "Epoch 54/100\n",
      "36800/36800 [==============================] - 59s 2ms/step - loss: 0.1095 - acc: 0.7588 - val_loss: 0.1739 - val_acc: 0.7376\n",
      "Epoch 55/100\n",
      "36800/36800 [==============================] - 60s 2ms/step - loss: 0.1247 - acc: 0.7540 - val_loss: 0.1477 - val_acc: 0.7456\n",
      "Epoch 56/100\n",
      "36800/36800 [==============================] - 60s 2ms/step - loss: 0.1618 - acc: 0.7433 - val_loss: 0.1967 - val_acc: 0.7291\n",
      "Epoch 57/100\n",
      "36800/36800 [==============================] - 60s 2ms/step - loss: 0.1076 - acc: 0.7593 - val_loss: 0.1422 - val_acc: 0.7475\n",
      "Epoch 58/100\n",
      "36800/36800 [==============================] - 60s 2ms/step - loss: 0.0816 - acc: 0.7680 - val_loss: 0.1622 - val_acc: 0.7408\n",
      "Epoch 59/100\n",
      "36800/36800 [==============================] - 60s 2ms/step - loss: 0.0850 - acc: 0.7664 - val_loss: 0.1325 - val_acc: 0.7506\n",
      "Epoch 60/100\n",
      "36800/36800 [==============================] - 60s 2ms/step - loss: 0.1472 - acc: 0.7469 - val_loss: 0.2184 - val_acc: 0.7229\n",
      "Epoch 61/100\n",
      "36800/36800 [==============================] - 60s 2ms/step - loss: 0.0905 - acc: 0.7646 - val_loss: 0.1462 - val_acc: 0.7461\n",
      "Epoch 62/100\n",
      "36800/36800 [==============================] - 60s 2ms/step - loss: 0.0859 - acc: 0.7660 - val_loss: 0.1268 - val_acc: 0.7526\n",
      "Epoch 63/100\n",
      "36800/36800 [==============================] - 59s 2ms/step - loss: 0.0624 - acc: 0.7743 - val_loss: 0.1258 - val_acc: 0.7531\n",
      "Epoch 64/100\n",
      "36800/36800 [==============================] - 59s 2ms/step - loss: 0.1551 - acc: 0.7460 - val_loss: 0.1749 - val_acc: 0.7368\n",
      "Epoch 65/100\n",
      "36800/36800 [==============================] - 59s 2ms/step - loss: 0.1034 - acc: 0.7604 - val_loss: 0.1333 - val_acc: 0.7505\n",
      "Epoch 66/100\n",
      "36800/36800 [==============================] - 59s 2ms/step - loss: 0.1100 - acc: 0.7588 - val_loss: 0.1552 - val_acc: 0.7442\n",
      "Epoch 67/100\n",
      "36800/36800 [==============================] - 59s 2ms/step - loss: 0.0780 - acc: 0.7687 - val_loss: 0.1216 - val_acc: 0.7541\n",
      "Epoch 68/100\n",
      "36800/36800 [==============================] - 59s 2ms/step - loss: 0.0533 - acc: 0.7774 - val_loss: 0.1128 - val_acc: 0.7568\n",
      "Epoch 69/100\n",
      "36800/36800 [==============================] - 59s 2ms/step - loss: 0.1148 - acc: 0.7571 - val_loss: 0.1311 - val_acc: 0.7511\n",
      "Epoch 70/100\n",
      "36800/36800 [==============================] - 59s 2ms/step - loss: 0.1024 - acc: 0.7610 - val_loss: 0.1401 - val_acc: 0.7475\n",
      "Epoch 71/100\n",
      "36800/36800 [==============================] - 59s 2ms/step - loss: 0.0715 - acc: 0.7710 - val_loss: 0.1698 - val_acc: 0.7411\n",
      "Epoch 72/100\n",
      "36800/36800 [==============================] - 59s 2ms/step - loss: 0.1251 - acc: 0.7550 - val_loss: 0.1667 - val_acc: 0.7431\n",
      "Epoch 73/100\n",
      "36800/36800 [==============================] - 59s 2ms/step - loss: 0.0783 - acc: 0.7690 - val_loss: 0.1123 - val_acc: 0.7569\n",
      "Epoch 74/100\n",
      "36800/36800 [==============================] - 58s 2ms/step - loss: 0.0505 - acc: 0.7783 - val_loss: 0.1110 - val_acc: 0.7572\n",
      "Epoch 75/100\n",
      "36800/36800 [==============================] - 58s 2ms/step - loss: 0.0708 - acc: 0.7723 - val_loss: 0.1895 - val_acc: 0.7336\n",
      "Epoch 76/100\n",
      "36800/36800 [==============================] - 58s 2ms/step - loss: 0.1133 - acc: 0.7569 - val_loss: 0.2757 - val_acc: 0.7094\n",
      "Epoch 77/100\n",
      "36800/36800 [==============================] - 59s 2ms/step - loss: 0.0733 - acc: 0.7702 - val_loss: 0.1256 - val_acc: 0.7544\n",
      "Epoch 78/100\n",
      "36800/36800 [==============================] - 58s 2ms/step - loss: 0.0536 - acc: 0.7768 - val_loss: 0.1091 - val_acc: 0.7587\n",
      "Epoch 79/100\n",
      "36800/36800 [==============================] - 58s 2ms/step - loss: 0.0434 - acc: 0.7804 - val_loss: 0.1541 - val_acc: 0.7464\n",
      "Epoch 80/100\n",
      "36800/36800 [==============================] - 58s 2ms/step - loss: 0.2025 - acc: 0.7355 - val_loss: 0.1547 - val_acc: 0.7426\n",
      "Epoch 81/100\n",
      "36800/36800 [==============================] - 58s 2ms/step - loss: 0.1300 - acc: 0.7522 - val_loss: 0.1747 - val_acc: 0.7377\n",
      "Epoch 82/100\n",
      "36800/36800 [==============================] - 58s 2ms/step - loss: 0.0660 - acc: 0.7726 - val_loss: 0.1143 - val_acc: 0.7561\n",
      "Epoch 83/100\n",
      "36800/36800 [==============================] - 58s 2ms/step - loss: 0.0521 - acc: 0.7775 - val_loss: 0.1067 - val_acc: 0.7594\n",
      "Epoch 84/100\n",
      "36800/36800 [==============================] - 57s 2ms/step - loss: 0.2185 - acc: 0.7340 - val_loss: 0.2057 - val_acc: 0.7261\n",
      "Epoch 85/100\n",
      "36800/36800 [==============================] - 54s 1ms/step - loss: 0.0931 - acc: 0.7633 - val_loss: 0.1461 - val_acc: 0.7474\n",
      "Epoch 86/100\n",
      "36800/36800 [==============================] - 55s 1ms/step - loss: 0.0602 - acc: 0.7744 - val_loss: 0.1209 - val_acc: 0.7560\n",
      "Epoch 87/100\n",
      "36800/36800 [==============================] - 55s 1ms/step - loss: 0.0653 - acc: 0.7737 - val_loss: 0.1064 - val_acc: 0.7592\n",
      "Epoch 88/100\n",
      "36800/36800 [==============================] - 54s 1ms/step - loss: 0.0476 - acc: 0.7790 - val_loss: 0.1046 - val_acc: 0.7603\n",
      "Epoch 89/100\n",
      "36800/36800 [==============================] - 54s 1ms/step - loss: 0.0870 - acc: 0.7678 - val_loss: 0.1467 - val_acc: 0.7486\n",
      "Epoch 90/100\n",
      "36800/36800 [==============================] - 55s 1ms/step - loss: 0.0548 - acc: 0.7762 - val_loss: 0.1009 - val_acc: 0.7614\n",
      "Epoch 91/100\n",
      "36800/36800 [==============================] - 54s 1ms/step - loss: 0.1218 - acc: 0.7576 - val_loss: 0.1115 - val_acc: 0.7582\n",
      "Epoch 92/100\n",
      "36800/36800 [==============================] - 55s 1ms/step - loss: 0.0408 - acc: 0.7813 - val_loss: 0.1006 - val_acc: 0.7615\n",
      "Epoch 93/100\n",
      "36800/36800 [==============================] - 54s 1ms/step - loss: 0.0267 - acc: 0.7862 - val_loss: 0.0927 - val_acc: 0.7643\n",
      "Epoch 94/100\n",
      "36800/36800 [==============================] - 54s 1ms/step - loss: 0.0225 - acc: 0.7878 - val_loss: 0.0902 - val_acc: 0.7649\n",
      "Epoch 95/100\n",
      "36800/36800 [==============================] - 56s 2ms/step - loss: 0.0635 - acc: 0.7740 - val_loss: 0.1206 - val_acc: 0.7552\n",
      "Epoch 96/100\n",
      "36800/36800 [==============================] - 59s 2ms/step - loss: 0.0458 - acc: 0.7794 - val_loss: 0.0950 - val_acc: 0.7636\n",
      "Epoch 97/100\n",
      "36800/36800 [==============================] - 59s 2ms/step - loss: 0.1010 - acc: 0.7658 - val_loss: 0.2030 - val_acc: 0.7304\n",
      "Epoch 98/100\n",
      "36800/36800 [==============================] - 59s 2ms/step - loss: 0.0474 - acc: 0.7788 - val_loss: 0.0941 - val_acc: 0.7640\n",
      "Epoch 99/100\n",
      "36800/36800 [==============================] - 59s 2ms/step - loss: 0.0621 - acc: 0.7758 - val_loss: 0.2305 - val_acc: 0.7241\n",
      "Epoch 100/100\n",
      "36800/36800 [==============================] - 59s 2ms/step - loss: 0.1111 - acc: 0.7596 - val_loss: 0.0979 - val_acc: 0.7625\n"
     ]
    },
    {
     "data": {
      "image/png": "[encoded data removed]",
      "text/plain": [
       "<matplotlib.figure.Figure at 0x7f2db52d5d30>"
      ]
     },
     "metadata": {},
     "output_type": "display_data"
    }
   ],
   "source": [
    "history = model.fit(X,Y, batch_size=batch_size, epochs=100, validation_split=.08)\n"
   ]
  },
  {
   "cell_type": "code",
   "execution_count": 44,
   "metadata": {},
   "outputs": [
    {
     "data": {
      "image/png": "[encoded data removed]",
      "text/plain": [
       "<matplotlib.figure.Figure at 0x7f2db30075c0>"
      ]
     },
     "metadata": {},
     "output_type": "display_data"
    }
   ],
   "source": [
    "plot_history(history)"
   ]
  },
  {
   "cell_type": "code",
   "execution_count": 46,
   "metadata": {
    "collapsed": true
   },
   "outputs": [],
   "source": [
    "def translator_fn(model, token_index, max_seq_len):\n",
    "    inverse_token_index = {v: k for k, v in token_index.items()}\n",
    "    def predict(in_phrase):\n",
    "        x = vectorize_phrase(in_phrase, token_index, max_seq_len)\n",
    "        pred_idxes = model.predict_classes(x, verbose=0)[0]\n",
    "        txt = ''.join([inverse_token_index[i] for i in pred_idxes])\n",
    "        end_idx = txt.find(\"\\n\")\n",
    "        return txt[1:end_idx]\n",
    "    return predict"
   ]
  },
  {
   "cell_type": "markdown",
   "metadata": {},
   "source": [
    "Create a function that will represent our trained identity fn"
   ]
  },
  {
   "cell_type": "code",
   "execution_count": 71,
   "metadata": {
    "collapsed": true
   },
   "outputs": [],
   "source": [
    "rearned_fn = translator_fn(model, token_idx, max_seq_length)"
   ]
  },
  {
   "cell_type": "code",
   "execution_count": 72,
   "metadata": {},
   "outputs": [
    {
     "name": "stdout",
     "output_type": "stream",
     "text": [
      "tom looked like a rich man -> tom looked like a rich man\n",
      "i don't see why this is news -> i don't see why this is news\n",
      "tom will figure it out -> tom will figure it out\n",
      "tom went on talking -> tom went on talking\n",
      "i didn't ask for your opinions -> i didn't ask for your opinions\n",
      "only tom can answer that -> only tom can answer that\n",
      "please, do not get excited -> please, do not get excited\n",
      "he is extremely unbiased -> he is extremely unbaased\n",
      "what's stopping you? -> what's stopping you?\n",
      "don't make me leave -> don't make me leave\n"
     ]
    }
   ],
   "source": [
    "# let's see what our model has learned so far\n",
    "# by trying to \"correct\" some correct phrases\n",
    "for p in  train_phrases[:10]:\n",
    "    print(p, '->',rearned_fn(p))"
   ]
  },
  {
   "cell_type": "code",
   "execution_count": 73,
   "metadata": {},
   "outputs": [
    {
     "name": "stdout",
     "output_type": "stream",
     "text": [
      "tom is hypocritical -> tom is mopocritical\n",
      "nobody else can know -> nobody else can know\n",
      "we'll do the same -> we'll do the same\n",
      "i'm not asking tom -> i'm not asking tom\n",
      "i got off the elevator -> i got off the elevator\n",
      "tom is on duty now -> tom is on duty now\n",
      "it's cause for major concern -> it's cause fom mamo  concenn\n",
      "would you like some more rice? -> would you like some more fice?\n",
      "i was very sad when mary died -> i was very sas when mary didd\n",
      "they're all waiting -> they're all waiting\n"
     ]
    }
   ],
   "source": [
    "for p in  test_phrases[:10]:\n",
    "    print(p, '->',rearned_fn(p))"
   ]
  },
  {
   "cell_type": "code",
   "execution_count": 74,
   "metadata": {
    "collapsed": true
   },
   "outputs": [],
   "source": [
    "def evaluate(texts, rearned_fn):\n",
    "    errors = 0.0\n",
    "    for t in texts:\n",
    "        if t != rearned_fn(t): errors += 1\n",
    "    return errors / len(texts)"
   ]
  },
  {
   "cell_type": "code",
   "execution_count": 75,
   "metadata": {},
   "outputs": [
    {
     "data": {
      "text/plain": [
       "0.187"
      ]
     },
     "execution_count": 75,
     "metadata": {},
     "output_type": "execute_result"
    }
   ],
   "source": [
    "evaluate(train_phrases[:1000], rearned_fn)"
   ]
  },
  {
   "cell_type": "code",
   "execution_count": 76,
   "metadata": {},
   "outputs": [
    {
     "data": {
      "text/plain": [
       "0.394"
      ]
     },
     "execution_count": 76,
     "metadata": {},
     "output_type": "execute_result"
    }
   ],
   "source": [
    "evaluate(test_phrases[:1000], rearned_fn)"
   ]
  }
 ],
 "metadata": {
  "kernelspec": {
   "display_name": "Python 3",
   "language": "python",
   "name": "python3"
  },
  "language_info": {
   "codemirror_mode": {
    "name": "ipython",
    "version": 3
   },
   "file_extension": ".py",
   "mimetype": "text/x-python",
   "name": "python",
   "nbconvert_exporter": "python",
   "pygments_lexer": "ipython3",
   "version": "3.6.1"
  }
 },
 "nbformat": 4,
 "nbformat_minor": 2
}
