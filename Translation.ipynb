{
 "cells": [
  {
   "cell_type": "code",
   "execution_count": 1,
   "metadata": {},
   "outputs": [
    {
     "name": "stderr",
     "output_type": "stream",
     "text": [
      "Using TensorFlow backend.\n"
     ]
    }
   ],
   "source": [
    "from __future__ import print_function\n",
    "\n",
    "# ignore some Keras warnings regarding deprecations and model saving \n",
    "import warnings\n",
    "warnings.filterwarnings('ignore')\n",
    "\n",
    "from keras.models import Model, load_model\n",
    "from keras.layers import Input, LSTM, Dense\n",
    "import pickle, numpy as np\n",
    "from random import Random\n",
    "from helpers import *\n"
   ]
  },
  {
   "cell_type": "code",
   "execution_count": 2,
   "metadata": {},
   "outputs": [],
   "source": [
    "batch_size = 64  # Batch size for training.\n",
    "epochs = 100  # Number of epochs to train for.\n",
    "latent_dim = 256  # Latent dimensionality of the encoding space.\n",
    "num_samples =10000 # Number of samples to train on.\n",
    "# Path to the datatxt file on disk.\n",
    "data_path = 'fra.txt'\n"
   ]
  },
  {
   "cell_type": "code",
   "execution_count": 12,
   "metadata": {},
   "outputs": [
    {
     "name": "stdout",
     "output_type": "stream",
     "text": [
      "Training on 10000 selected phrases\n"
     ]
    }
   ],
   "source": [
    "all_input_phrases, all_target_phrases = read_data(data_path)\n",
    "# do some text pre-processing\n",
    "all_input_phrases = text_preprocess(all_input_phrases)\n",
    "all_target_phrases = text_preprocess(all_target_phrases)\n",
    "# add the delimiters signifying the beginning and end of a sequence\n",
    "all_target_phrases = wrap_with_delims(all_target_phrases)\n",
    "\n",
    "# keep only `num_samples` examples. \n",
    "# Note: we're starting from the 2nd example, its not important\n",
    "input_phrases, target_phrases = all_input_phrases[:num_samples], all_target_phrases[:num_samples]\n",
    "# Wrap the target phrases with delimiters signifying the start end end of the sequence\n",
    "\n",
    "print(\"Training on %d selected phrases\" % len(input_phrases))"
   ]
  },
  {
   "cell_type": "code",
   "execution_count": 13,
   "metadata": {},
   "outputs": [
    {
     "data": {
      "text/plain": [
       "[('go', '\\tva !\\n'),\n",
       " ('run!', '\\tcours!\\n'),\n",
       " ('run!', '\\tcourez!\\n'),\n",
       " ('fire!', '\\tau feu !\\n'),\n",
       " ('help!', \"\\tà l'aide!\\n\")]"
      ]
     },
     "execution_count": 13,
     "metadata": {},
     "output_type": "execute_result"
    }
   ],
   "source": [
    "list(zip(input_phrases[:5], target_phrases[:5]))"
   ]
  },
  {
   "cell_type": "code",
   "execution_count": 14,
   "metadata": {},
   "outputs": [
    {
     "name": "stdout",
     "output_type": "stream",
     "text": [
      "Number of unique input tokens: 63\n",
      "Number of unique output tokens: 83\n",
      "Max sequence length for inputs: 16\n",
      "Max sequence length for outputs: 58\n"
     ]
    }
   ],
   "source": [
    "# build the token index on all available phrases\n",
    "input_token_index = token_index(all_input_phrases)\n",
    "target_token_index = token_index(all_target_phrases)\n",
    "num_encoder_tokens = len(input_token_index)\n",
    "num_decoder_tokens = len(target_token_index)\n",
    "max_encoder_seq_length = max([len(txt) for txt in input_phrases])\n",
    "max_decoder_seq_length = max([len(txt) for txt in target_phrases])\n",
    "print('Number of unique input tokens:', num_encoder_tokens)\n",
    "print('Number of unique output tokens:', num_decoder_tokens)\n",
    "print('Max sequence length for inputs:', max_encoder_seq_length)\n",
    "print('Max sequence length for outputs:', max_decoder_seq_length)"
   ]
  },
  {
   "cell_type": "code",
   "execution_count": null,
   "metadata": {
    "collapsed": true
   },
   "outputs": [],
   "source": []
  },
  {
   "cell_type": "code",
   "execution_count": null,
   "metadata": {},
   "outputs": [],
   "source": []
  },
  {
   "cell_type": "code",
   "execution_count": null,
   "metadata": {
    "collapsed": true
   },
   "outputs": [],
   "source": [
    "\n",
    "\n"
   ]
  },
  {
   "cell_type": "code",
   "execution_count": null,
   "metadata": {
    "collapsed": true
   },
   "outputs": [],
   "source": []
  },
  {
   "cell_type": "code",
   "execution_count": null,
   "metadata": {
    "collapsed": true
   },
   "outputs": [],
   "source": []
  },
  {
   "cell_type": "code",
   "execution_count": null,
   "metadata": {
    "collapsed": true
   },
   "outputs": [],
   "source": []
  },
  {
   "cell_type": "code",
   "execution_count": null,
   "metadata": {
    "collapsed": true
   },
   "outputs": [],
   "source": []
  },
  {
   "cell_type": "code",
   "execution_count": 7,
   "metadata": {},
   "outputs": [],
   "source": [
    "def models(num_encoder_tokens, num_decoder_tokens, latent_dim):\n",
    "    # Define an input sequence and process it.\n",
    "    encoder_inputs = Input(shape=(None, num_encoder_tokens), name='encoder_inputs')\n",
    "    encoder = LSTM(latent_dim, return_state=True, name='encoder')\n",
    "    encoder_outputs, state_h, state_c = encoder(encoder_inputs)\n",
    "    # We discard `encoder_outputs` and only keep the states.\n",
    "    encoder_states = [state_h, state_c]\n",
    "\n",
    "    # Set up the decoder, using `encoder_states` as initial state.\n",
    "    decoder_inputs = Input(shape=(None, num_decoder_tokens), name='decoder_inputs')\n",
    "    # We set up our decoder to return full output sequences,\n",
    "    # and to return internal states as well. We don't use the\n",
    "    # return states in the training model, but we will use them in inference.\n",
    "    decoder_lstm = LSTM(latent_dim, return_sequences=True, return_state=True, \n",
    "                        name='decoder_lstm')\n",
    "    decoder_outputs, _, _ = decoder_lstm(decoder_inputs,\n",
    "                                         initial_state=encoder_states)\n",
    "    decoder_dense = Dense(num_decoder_tokens, activation='softmax', \n",
    "                          name='decoder_dense')\n",
    "    decoder_outputs = decoder_dense(decoder_outputs)\n",
    "\n",
    "    # Define the model that will turn\n",
    "    # `encoder_input_data` & `decoder_input_data` into `decoder_target_data`\n",
    "    model = Model([encoder_inputs, decoder_inputs], decoder_outputs)\n",
    "\n",
    "    # Next: inference mode (sampling).\n",
    "    # Here's the drill:\n",
    "    # 1) encode input and retrieve initial decoder state\n",
    "    # 2) run one step of decoder with this initial state\n",
    "    # and a \"start of sequence\" token as target.\n",
    "    # Output will be the next target token\n",
    "    # 3) Repeat with the current target token and current states\n",
    "\n",
    "    # Define sampling models\n",
    "    encoder_model = Model(encoder_inputs, encoder_states)\n",
    "\n",
    "    decoder_state_input_h = Input(shape=(latent_dim,), name='decoder_input_h')\n",
    "    decoder_state_input_c = Input(shape=(latent_dim,), name='decoder_input_c')\n",
    "    decoder_states_inputs = [decoder_state_input_h, decoder_state_input_c]\n",
    "    decoder_outputs, state_h, state_c = decoder_lstm(\n",
    "        decoder_inputs, initial_state=decoder_states_inputs)\n",
    "    decoder_states = [state_h, state_c]\n",
    "    decoder_outputs = decoder_dense(decoder_outputs)\n",
    "    decoder_model = Model(\n",
    "        [decoder_inputs] + decoder_states_inputs,\n",
    "        [decoder_outputs] + decoder_states)\n",
    "    \n",
    "    return model, encoder_model, decoder_model\n"
   ]
  },
  {
   "cell_type": "code",
   "execution_count": 8,
   "metadata": {},
   "outputs": [],
   "source": [
    "model, encoder_model, decoder_model = models(num_encoder_tokens, num_decoder_tokens, latent_dim)\n",
    "\n",
    "# Run training\n",
    "model.compile(optimizer='rmsprop', loss='categorical_crossentropy')"
   ]
  },
  {
   "cell_type": "code",
   "execution_count": 15,
   "metadata": {},
   "outputs": [
    {
     "name": "stdout",
     "output_type": "stream",
     "text": [
      "Train on 9000 samples, validate on 1000 samples\n",
      "Epoch 1/100\n",
      "9000/9000 [==============================] - 18s 2ms/step - loss: 0.8979 - val_loss: 0.9907\n",
      "Epoch 2/100\n",
      "9000/9000 [==============================] - 20s 2ms/step - loss: 0.7376 - val_loss: 0.8269\n",
      "Epoch 3/100\n",
      "9000/9000 [==============================] - 19s 2ms/step - loss: 0.6355 - val_loss: 0.7563\n",
      "Epoch 4/100\n",
      "9000/9000 [==============================] - 19s 2ms/step - loss: 0.5784 - val_loss: 0.7149\n",
      "Epoch 5/100\n",
      "9000/9000 [==============================] - 18s 2ms/step - loss: 0.5397 - val_loss: 0.6668\n",
      "Epoch 6/100\n",
      "9000/9000 [==============================] - 20s 2ms/step - loss: 0.5049 - val_loss: 0.6502\n",
      "Epoch 7/100\n",
      "9000/9000 [==============================] - 18s 2ms/step - loss: 0.4766 - val_loss: 0.6151\n",
      "Epoch 8/100\n",
      "9000/9000 [==============================] - 18s 2ms/step - loss: 0.4528 - val_loss: 0.5963\n",
      "Epoch 9/100\n",
      "9000/9000 [==============================] - 18s 2ms/step - loss: 0.4319 - val_loss: 0.5801\n",
      "Epoch 10/100\n",
      "9000/9000 [==============================] - 18s 2ms/step - loss: 0.4156 - val_loss: 0.5658\n",
      "Epoch 11/100\n",
      "9000/9000 [==============================] - 18s 2ms/step - loss: 0.3981 - val_loss: 0.5544\n",
      "Epoch 12/100\n",
      "9000/9000 [==============================] - 18s 2ms/step - loss: 0.3836 - val_loss: 0.5404\n",
      "Epoch 13/100\n",
      "9000/9000 [==============================] - 18s 2ms/step - loss: 0.3693 - val_loss: 0.5337\n",
      "Epoch 14/100\n",
      "9000/9000 [==============================] - 18s 2ms/step - loss: 0.3562 - val_loss: 0.5289\n",
      "Epoch 15/100\n",
      "9000/9000 [==============================] - 18s 2ms/step - loss: 0.3443 - val_loss: 0.5205\n",
      "Epoch 16/100\n",
      "9000/9000 [==============================] - 18s 2ms/step - loss: 0.3326 - val_loss: 0.5200\n",
      "Epoch 17/100\n",
      "9000/9000 [==============================] - 18s 2ms/step - loss: 0.3218 - val_loss: 0.5143\n",
      "Epoch 18/100\n",
      "9000/9000 [==============================] - 18s 2ms/step - loss: 0.3117 - val_loss: 0.5109\n",
      "Epoch 19/100\n",
      "9000/9000 [==============================] - 18s 2ms/step - loss: 0.3022 - val_loss: 0.5172\n",
      "Epoch 20/100\n",
      "9000/9000 [==============================] - 18s 2ms/step - loss: 0.2930 - val_loss: 0.5083\n",
      "Epoch 21/100\n",
      "9000/9000 [==============================] - 18s 2ms/step - loss: 0.2839 - val_loss: 0.5071\n",
      "Epoch 22/100\n",
      "9000/9000 [==============================] - 18s 2ms/step - loss: 0.2758 - val_loss: 0.5082\n",
      "Epoch 23/100\n",
      "9000/9000 [==============================] - 18s 2ms/step - loss: 0.2674 - val_loss: 0.5094\n",
      "Epoch 24/100\n",
      "9000/9000 [==============================] - 18s 2ms/step - loss: 0.2601 - val_loss: 0.5068\n",
      "Epoch 25/100\n",
      "9000/9000 [==============================] - 18s 2ms/step - loss: 0.2527 - val_loss: 0.5123\n",
      "Epoch 26/100\n",
      "9000/9000 [==============================] - 18s 2ms/step - loss: 0.2457 - val_loss: 0.5127\n",
      "Epoch 27/100\n",
      "9000/9000 [==============================] - 18s 2ms/step - loss: 0.2391 - val_loss: 0.5118\n",
      "Epoch 28/100\n",
      "9000/9000 [==============================] - 18s 2ms/step - loss: 0.2327 - val_loss: 0.5160\n",
      "Epoch 29/100\n",
      "9000/9000 [==============================] - 18s 2ms/step - loss: 0.2263 - val_loss: 0.5212\n",
      "Epoch 30/100\n",
      "9000/9000 [==============================] - 18s 2ms/step - loss: 0.2203 - val_loss: 0.5237\n",
      "Epoch 31/100\n",
      "9000/9000 [==============================] - 18s 2ms/step - loss: 0.2146 - val_loss: 0.5261\n",
      "Epoch 32/100\n",
      "9000/9000 [==============================] - 18s 2ms/step - loss: 0.2091 - val_loss: 0.5312\n",
      "Epoch 33/100\n",
      "9000/9000 [==============================] - 18s 2ms/step - loss: 0.2040 - val_loss: 0.5340\n",
      "Epoch 34/100\n",
      "9000/9000 [==============================] - 18s 2ms/step - loss: 0.1988 - val_loss: 0.5372\n",
      "Epoch 35/100\n",
      "9000/9000 [==============================] - 18s 2ms/step - loss: 0.1933 - val_loss: 0.5433\n",
      "Epoch 36/100\n",
      "9000/9000 [==============================] - 18s 2ms/step - loss: 0.1893 - val_loss: 0.5527\n",
      "Epoch 37/100\n",
      "9000/9000 [==============================] - 18s 2ms/step - loss: 0.1844 - val_loss: 0.5534\n",
      "Epoch 38/100\n",
      "9000/9000 [==============================] - 18s 2ms/step - loss: 0.1801 - val_loss: 0.5545\n",
      "Epoch 39/100\n",
      "9000/9000 [==============================] - 18s 2ms/step - loss: 0.1758 - val_loss: 0.5583\n",
      "Epoch 40/100\n",
      "9000/9000 [==============================] - 18s 2ms/step - loss: 0.1718 - val_loss: 0.5730\n",
      "Epoch 41/100\n",
      "9000/9000 [==============================] - 18s 2ms/step - loss: 0.1682 - val_loss: 0.5645\n",
      "Epoch 42/100\n",
      "9000/9000 [==============================] - 18s 2ms/step - loss: 0.1640 - val_loss: 0.5726\n",
      "Epoch 43/100\n",
      "9000/9000 [==============================] - 18s 2ms/step - loss: 0.1604 - val_loss: 0.5748\n",
      "Epoch 44/100\n",
      "9000/9000 [==============================] - 18s 2ms/step - loss: 0.1568 - val_loss: 0.5772\n",
      "Epoch 45/100\n",
      "9000/9000 [==============================] - 18s 2ms/step - loss: 0.1531 - val_loss: 0.5845\n",
      "Epoch 46/100\n",
      "9000/9000 [==============================] - 18s 2ms/step - loss: 0.1499 - val_loss: 0.5990\n",
      "Epoch 47/100\n",
      "9000/9000 [==============================] - 18s 2ms/step - loss: 0.1465 - val_loss: 0.5979\n",
      "Epoch 48/100\n",
      "9000/9000 [==============================] - 18s 2ms/step - loss: 0.1435 - val_loss: 0.6012\n",
      "Epoch 49/100\n",
      "9000/9000 [==============================] - 18s 2ms/step - loss: 0.1404 - val_loss: 0.6007\n",
      "Epoch 50/100\n",
      "9000/9000 [==============================] - 18s 2ms/step - loss: 0.1374 - val_loss: 0.6072\n",
      "Epoch 51/100\n",
      "9000/9000 [==============================] - 18s 2ms/step - loss: 0.1349 - val_loss: 0.6180\n",
      "Epoch 52/100\n",
      "9000/9000 [==============================] - 18s 2ms/step - loss: 0.1321 - val_loss: 0.6181\n",
      "Epoch 53/100\n",
      "9000/9000 [==============================] - 18s 2ms/step - loss: 0.1294 - val_loss: 0.6287\n",
      "Epoch 54/100\n",
      "9000/9000 [==============================] - 18s 2ms/step - loss: 0.1269 - val_loss: 0.6269\n",
      "Epoch 55/100\n",
      "9000/9000 [==============================] - 18s 2ms/step - loss: 0.1243 - val_loss: 0.6384\n",
      "Epoch 56/100\n",
      "9000/9000 [==============================] - 18s 2ms/step - loss: 0.1218 - val_loss: 0.6430\n",
      "Epoch 57/100\n",
      "9000/9000 [==============================] - 18s 2ms/step - loss: 0.1192 - val_loss: 0.6496\n",
      "Epoch 58/100\n",
      "9000/9000 [==============================] - 18s 2ms/step - loss: 0.1171 - val_loss: 0.6514\n",
      "Epoch 59/100\n",
      "9000/9000 [==============================] - 18s 2ms/step - loss: 0.1150 - val_loss: 0.6588\n",
      "Epoch 60/100\n",
      "9000/9000 [==============================] - 18s 2ms/step - loss: 0.1127 - val_loss: 0.6651\n",
      "Epoch 61/100\n",
      "9000/9000 [==============================] - 18s 2ms/step - loss: 0.1111 - val_loss: 0.6716\n",
      "Epoch 62/100\n",
      "9000/9000 [==============================] - 18s 2ms/step - loss: 0.1086 - val_loss: 0.6762\n",
      "Epoch 63/100\n",
      "9000/9000 [==============================] - 18s 2ms/step - loss: 0.1066 - val_loss: 0.6871\n",
      "Epoch 64/100\n",
      "9000/9000 [==============================] - 18s 2ms/step - loss: 0.1048 - val_loss: 0.6876\n",
      "Epoch 65/100\n",
      "9000/9000 [==============================] - 18s 2ms/step - loss: 0.1025 - val_loss: 0.6935\n",
      "Epoch 66/100\n",
      "9000/9000 [==============================] - 18s 2ms/step - loss: 0.1010 - val_loss: 0.6968\n",
      "Epoch 67/100\n",
      "9000/9000 [==============================] - 18s 2ms/step - loss: 0.0990 - val_loss: 0.6908\n",
      "Epoch 68/100\n",
      "9000/9000 [==============================] - 18s 2ms/step - loss: 0.0976 - val_loss: 0.7068\n",
      "Epoch 69/100\n",
      "9000/9000 [==============================] - 18s 2ms/step - loss: 0.0955 - val_loss: 0.7180\n",
      "Epoch 70/100\n",
      "9000/9000 [==============================] - 18s 2ms/step - loss: 0.0941 - val_loss: 0.7099\n",
      "Epoch 71/100\n",
      "9000/9000 [==============================] - 18s 2ms/step - loss: 0.0925 - val_loss: 0.7179\n",
      "Epoch 72/100\n",
      "9000/9000 [==============================] - 18s 2ms/step - loss: 0.0908 - val_loss: 0.7340\n",
      "Epoch 73/100\n",
      "9000/9000 [==============================] - 18s 2ms/step - loss: 0.0893 - val_loss: 0.7304\n",
      "Epoch 74/100\n",
      "9000/9000 [==============================] - 18s 2ms/step - loss: 0.0878 - val_loss: 0.7407\n",
      "Epoch 75/100\n",
      "9000/9000 [==============================] - 18s 2ms/step - loss: 0.0864 - val_loss: 0.7342\n",
      "Epoch 76/100\n",
      "9000/9000 [==============================] - 18s 2ms/step - loss: 0.0849 - val_loss: 0.7362\n",
      "Epoch 77/100\n",
      "9000/9000 [==============================] - 18s 2ms/step - loss: 0.0833 - val_loss: 0.7513\n",
      "Epoch 78/100\n"
     ]
    },
    {
     "name": "stdout",
     "output_type": "stream",
     "text": [
      "9000/9000 [==============================] - 17s 2ms/step - loss: 0.0821 - val_loss: 0.7486\n",
      "Epoch 79/100\n",
      "9000/9000 [==============================] - 17s 2ms/step - loss: 0.0808 - val_loss: 0.7562\n",
      "Epoch 80/100\n",
      "9000/9000 [==============================] - 17s 2ms/step - loss: 0.0795 - val_loss: 0.7548\n",
      "Epoch 81/100\n",
      "9000/9000 [==============================] - 17s 2ms/step - loss: 0.0783 - val_loss: 0.7615\n",
      "Epoch 82/100\n",
      "9000/9000 [==============================] - 17s 2ms/step - loss: 0.0770 - val_loss: 0.7656\n",
      "Epoch 83/100\n",
      "9000/9000 [==============================] - 17s 2ms/step - loss: 0.0761 - val_loss: 0.7695\n",
      "Epoch 84/100\n",
      "9000/9000 [==============================] - 17s 2ms/step - loss: 0.0747 - val_loss: 0.7805\n",
      "Epoch 85/100\n",
      "9000/9000 [==============================] - 17s 2ms/step - loss: 0.0734 - val_loss: 0.7839\n",
      "Epoch 86/100\n",
      "9000/9000 [==============================] - 17s 2ms/step - loss: 0.0721 - val_loss: 0.7840\n",
      "Epoch 87/100\n",
      "9000/9000 [==============================] - 17s 2ms/step - loss: 0.0712 - val_loss: 0.7902\n",
      "Epoch 88/100\n",
      "9000/9000 [==============================] - 17s 2ms/step - loss: 0.0699 - val_loss: 0.7919\n",
      "Epoch 89/100\n",
      "9000/9000 [==============================] - 18s 2ms/step - loss: 0.0692 - val_loss: 0.7948\n",
      "Epoch 90/100\n",
      "9000/9000 [==============================] - 17s 2ms/step - loss: 0.0680 - val_loss: 0.8058\n",
      "Epoch 91/100\n",
      "9000/9000 [==============================] - 17s 2ms/step - loss: 0.0674 - val_loss: 0.8020\n",
      "Epoch 92/100\n",
      "9000/9000 [==============================] - 17s 2ms/step - loss: 0.0659 - val_loss: 0.8014\n",
      "Epoch 93/100\n",
      "9000/9000 [==============================] - 17s 2ms/step - loss: 0.0652 - val_loss: 0.8154\n",
      "Epoch 94/100\n",
      "9000/9000 [==============================] - 17s 2ms/step - loss: 0.0641 - val_loss: 0.8110\n",
      "Epoch 95/100\n",
      "9000/9000 [==============================] - 17s 2ms/step - loss: 0.0632 - val_loss: 0.8227\n",
      "Epoch 96/100\n",
      "9000/9000 [==============================] - 17s 2ms/step - loss: 0.0624 - val_loss: 0.8233\n",
      "Epoch 97/100\n",
      "9000/9000 [==============================] - 18s 2ms/step - loss: 0.0616 - val_loss: 0.8287\n",
      "Epoch 98/100\n",
      "9000/9000 [==============================] - 18s 2ms/step - loss: 0.0608 - val_loss: 0.8399\n",
      "Epoch 99/100\n",
      "9000/9000 [==============================] - 18s 2ms/step - loss: 0.0600 - val_loss: 0.8303\n",
      "Epoch 100/100\n",
      "9000/9000 [==============================] - 18s 2ms/step - loss: 0.0587 - val_loss: 0.8396\n"
     ]
    }
   ],
   "source": [
    "X, Y = vectorize_dataset(input_phrases, target_phrases,\n",
    "                  input_token_index,target_token_index,\n",
    "                  max_encoder_seq_length, max_decoder_seq_length)\n",
    "history = model.fit(X,Y,\n",
    "                   batch_size=batch_size, epochs=epochs, \n",
    "                   validation_split=0.1)"
   ]
  },
  {
   "cell_type": "code",
   "execution_count": 33,
   "metadata": {
    "collapsed": true
   },
   "outputs": [],
   "source": []
  },
  {
   "cell_type": "code",
   "execution_count": 16,
   "metadata": {},
   "outputs": [
    {
     "data": {
      "image/png": "[encoded data removed]",
      "text/plain": [
       "<matplotlib.figure.Figure at 0x7f460c67f0f0>"
      ]
     },
     "metadata": {},
     "output_type": "display_data"
    }
   ],
   "source": [
    "plot_history(history)"
   ]
  },
  {
   "cell_type": "code",
   "execution_count": 17,
   "metadata": {},
   "outputs": [
    {
     "ename": "NameError",
     "evalue": "name 'vectorizer' is not defined",
     "output_type": "error",
     "traceback": [
      "\u001b[0;31m---------------------------------------------------------------------------\u001b[0m",
      "\u001b[0;31mNameError\u001b[0m                                 Traceback (most recent call last)",
      "\u001b[0;32m<ipython-input-17-fd728d704aed>\u001b[0m in \u001b[0;36m<module>\u001b[0;34m()\u001b[0m\n\u001b[1;32m      2\u001b[0m \u001b[0mtest_target_phrases\u001b[0m \u001b[0;34m=\u001b[0m \u001b[0mall_target_phrases\u001b[0m\u001b[0;34m[\u001b[0m\u001b[0mnum_samples\u001b[0m\u001b[0;34m:\u001b[0m\u001b[0mnum_samples\u001b[0m\u001b[0;34m+\u001b[0m\u001b[0;36m1000\u001b[0m\u001b[0;34m]\u001b[0m\u001b[0;34m\u001b[0m\u001b[0m\n\u001b[1;32m      3\u001b[0m \u001b[0;34m\u001b[0m\u001b[0m\n\u001b[0;32m----> 4\u001b[0;31m \u001b[0mX\u001b[0m\u001b[0;34m,\u001b[0m \u001b[0mY\u001b[0m \u001b[0;34m=\u001b[0m \u001b[0mvectorizer\u001b[0m\u001b[0;34m(\u001b[0m\u001b[0mtest_input_phrases\u001b[0m\u001b[0;34m,\u001b[0m \u001b[0mtest_target_phrases\u001b[0m\u001b[0;34m)\u001b[0m\u001b[0;34m\u001b[0m\u001b[0m\n\u001b[0m\u001b[1;32m      5\u001b[0m \u001b[0mmodel\u001b[0m\u001b[0;34m.\u001b[0m\u001b[0mevaluate\u001b[0m\u001b[0;34m(\u001b[0m\u001b[0mX\u001b[0m\u001b[0;34m,\u001b[0m \u001b[0mY\u001b[0m\u001b[0;34m)\u001b[0m\u001b[0;34m\u001b[0m\u001b[0m\n",
      "\u001b[0;31mNameError\u001b[0m: name 'vectorizer' is not defined"
     ]
    }
   ],
   "source": [
    "test_input_phrases = all_input_phrases[num_samples:num_samples+1000]\n",
    "test_target_phrases = all_target_phrases[num_samples:num_samples+1000]\n",
    "\n",
    "X, Y = vectorizer(test_input_phrases, test_target_phrases)\n",
    "model.evaluate(X, Y)"
   ]
  },
  {
   "cell_type": "code",
   "execution_count": null,
   "metadata": {},
   "outputs": [],
   "source": []
  },
  {
   "cell_type": "code",
   "execution_count": null,
   "metadata": {
    "collapsed": true
   },
   "outputs": [],
   "source": [
    "model.save('training.h5')\n",
    "encoder_model.save('encoder.h5')\n",
    "decoder_model.save('decoder.h5')\n",
    "\n",
    "model_metadata = { 'input_token_index': input_token_index, \n",
    "                   'target_token_index': target_token_index,\n",
    "                   'max_encoder_seq_length': max_encoder_seq_length }\n",
    "\n",
    "with open('model_metadata.pickle', 'wb') as f:\n",
    "    pickle.dump(model_metadata, f)"
   ]
  },
  {
   "cell_type": "code",
   "execution_count": null,
   "metadata": {
    "collapsed": true
   },
   "outputs": [],
   "source": [
    "model = load_model('training.h5')\n",
    "encoder_model = load_model('encoder.h5')\n",
    "decoder_model = load_model('decoder.h5')\n",
    "\n",
    "with open('model_metadata.pickle', 'rb') as f:\n",
    "    model_metadata = pickle.load(f)\n",
    "\n",
    "input_token_index = model_metadata['input_token_index']\n",
    "target_token_index = model_metadata['target_token_index']\n",
    "max_encoder_seq_length = model_metadata['max_encoder_seq_length']"
   ]
  },
  {
   "cell_type": "code",
   "execution_count": 15,
   "metadata": {},
   "outputs": [
    {
     "name": "stdout",
     "output_type": "stream",
     "text": [
      " 17376/280000 [>.............................] - ETA: 9:44"
     ]
    },
    {
     "ename": "KeyboardInterrupt",
     "evalue": "",
     "output_type": "error",
     "traceback": [
      "\u001b[0;31m---------------------------------------------------------------------------\u001b[0m",
      "\u001b[0;31mKeyboardInterrupt\u001b[0m                         Traceback (most recent call last)",
      "\u001b[0;32m<ipython-input-15-253576577d65>\u001b[0m in \u001b[0;36m<module>\u001b[0;34m()\u001b[0m\n\u001b[1;32m      1\u001b[0m model.evaluate([encoder_input_data, decoder_input_data], \n\u001b[0;32m----> 2\u001b[0;31m                    decoder_target_data,)\n\u001b[0m",
      "\u001b[0;32m/home/cmantas/anaconda3/lib/python3.6/site-packages/keras/engine/training.py\u001b[0m in \u001b[0;36mevaluate\u001b[0;34m(self, x, y, batch_size, verbose, sample_weight, steps)\u001b[0m\n\u001b[1;32m   1109\u001b[0m                                          \u001b[0mbatch_size\u001b[0m\u001b[0;34m=\u001b[0m\u001b[0mbatch_size\u001b[0m\u001b[0;34m,\u001b[0m\u001b[0;34m\u001b[0m\u001b[0m\n\u001b[1;32m   1110\u001b[0m                                          \u001b[0mverbose\u001b[0m\u001b[0;34m=\u001b[0m\u001b[0mverbose\u001b[0m\u001b[0;34m,\u001b[0m\u001b[0;34m\u001b[0m\u001b[0m\n\u001b[0;32m-> 1111\u001b[0;31m                                          steps=steps)\n\u001b[0m\u001b[1;32m   1112\u001b[0m \u001b[0;34m\u001b[0m\u001b[0m\n\u001b[1;32m   1113\u001b[0m     def predict(self, x,\n",
      "\u001b[0;32m/home/cmantas/anaconda3/lib/python3.6/site-packages/keras/engine/training_arrays.py\u001b[0m in \u001b[0;36mtest_loop\u001b[0;34m(model, f, ins, batch_size, verbose, steps)\u001b[0m\n\u001b[1;32m    390\u001b[0m                 \u001b[0mins_batch\u001b[0m\u001b[0;34m[\u001b[0m\u001b[0mi\u001b[0m\u001b[0;34m]\u001b[0m \u001b[0;34m=\u001b[0m \u001b[0mins_batch\u001b[0m\u001b[0;34m[\u001b[0m\u001b[0mi\u001b[0m\u001b[0;34m]\u001b[0m\u001b[0;34m.\u001b[0m\u001b[0mtoarray\u001b[0m\u001b[0;34m(\u001b[0m\u001b[0;34m)\u001b[0m\u001b[0;34m\u001b[0m\u001b[0m\n\u001b[1;32m    391\u001b[0m \u001b[0;34m\u001b[0m\u001b[0m\n\u001b[0;32m--> 392\u001b[0;31m             \u001b[0mbatch_outs\u001b[0m \u001b[0;34m=\u001b[0m \u001b[0mf\u001b[0m\u001b[0;34m(\u001b[0m\u001b[0mins_batch\u001b[0m\u001b[0;34m)\u001b[0m\u001b[0;34m\u001b[0m\u001b[0m\n\u001b[0m\u001b[1;32m    393\u001b[0m             \u001b[0;32mif\u001b[0m \u001b[0misinstance\u001b[0m\u001b[0;34m(\u001b[0m\u001b[0mbatch_outs\u001b[0m\u001b[0;34m,\u001b[0m \u001b[0mlist\u001b[0m\u001b[0;34m)\u001b[0m\u001b[0;34m:\u001b[0m\u001b[0;34m\u001b[0m\u001b[0m\n\u001b[1;32m    394\u001b[0m                 \u001b[0;32mif\u001b[0m \u001b[0mbatch_index\u001b[0m \u001b[0;34m==\u001b[0m \u001b[0;36m0\u001b[0m\u001b[0;34m:\u001b[0m\u001b[0;34m\u001b[0m\u001b[0m\n",
      "\u001b[0;32m/home/cmantas/anaconda3/lib/python3.6/site-packages/keras/backend/tensorflow_backend.py\u001b[0m in \u001b[0;36m__call__\u001b[0;34m(self, inputs)\u001b[0m\n\u001b[1;32m   2664\u001b[0m                 \u001b[0;32mreturn\u001b[0m \u001b[0mself\u001b[0m\u001b[0;34m.\u001b[0m\u001b[0m_legacy_call\u001b[0m\u001b[0;34m(\u001b[0m\u001b[0minputs\u001b[0m\u001b[0;34m)\u001b[0m\u001b[0;34m\u001b[0m\u001b[0m\n\u001b[1;32m   2665\u001b[0m \u001b[0;34m\u001b[0m\u001b[0m\n\u001b[0;32m-> 2666\u001b[0;31m             \u001b[0;32mreturn\u001b[0m \u001b[0mself\u001b[0m\u001b[0;34m.\u001b[0m\u001b[0m_call\u001b[0m\u001b[0;34m(\u001b[0m\u001b[0minputs\u001b[0m\u001b[0;34m)\u001b[0m\u001b[0;34m\u001b[0m\u001b[0m\n\u001b[0m\u001b[1;32m   2667\u001b[0m         \u001b[0;32melse\u001b[0m\u001b[0;34m:\u001b[0m\u001b[0;34m\u001b[0m\u001b[0m\n\u001b[1;32m   2668\u001b[0m             \u001b[0;32mif\u001b[0m \u001b[0mpy_any\u001b[0m\u001b[0;34m(\u001b[0m\u001b[0mis_tensor\u001b[0m\u001b[0;34m(\u001b[0m\u001b[0mx\u001b[0m\u001b[0;34m)\u001b[0m \u001b[0;32mfor\u001b[0m \u001b[0mx\u001b[0m \u001b[0;32min\u001b[0m \u001b[0minputs\u001b[0m\u001b[0;34m)\u001b[0m\u001b[0;34m:\u001b[0m\u001b[0;34m\u001b[0m\u001b[0m\n",
      "\u001b[0;32m/home/cmantas/anaconda3/lib/python3.6/site-packages/keras/backend/tensorflow_backend.py\u001b[0m in \u001b[0;36m_call\u001b[0;34m(self, inputs)\u001b[0m\n\u001b[1;32m   2634\u001b[0m                                 \u001b[0msymbol_vals\u001b[0m\u001b[0;34m,\u001b[0m\u001b[0;34m\u001b[0m\u001b[0m\n\u001b[1;32m   2635\u001b[0m                                 session)\n\u001b[0;32m-> 2636\u001b[0;31m         \u001b[0mfetched\u001b[0m \u001b[0;34m=\u001b[0m \u001b[0mself\u001b[0m\u001b[0;34m.\u001b[0m\u001b[0m_callable_fn\u001b[0m\u001b[0;34m(\u001b[0m\u001b[0;34m*\u001b[0m\u001b[0marray_vals\u001b[0m\u001b[0;34m)\u001b[0m\u001b[0;34m\u001b[0m\u001b[0m\n\u001b[0m\u001b[1;32m   2637\u001b[0m         \u001b[0;32mreturn\u001b[0m \u001b[0mfetched\u001b[0m\u001b[0;34m[\u001b[0m\u001b[0;34m:\u001b[0m\u001b[0mlen\u001b[0m\u001b[0;34m(\u001b[0m\u001b[0mself\u001b[0m\u001b[0;34m.\u001b[0m\u001b[0moutputs\u001b[0m\u001b[0;34m)\u001b[0m\u001b[0;34m]\u001b[0m\u001b[0;34m\u001b[0m\u001b[0m\n\u001b[1;32m   2638\u001b[0m \u001b[0;34m\u001b[0m\u001b[0m\n",
      "\u001b[0;32m/home/cmantas/anaconda3/lib/python3.6/site-packages/tensorflow/python/client/session.py\u001b[0m in \u001b[0;36m__call__\u001b[0;34m(self, *args, **kwargs)\u001b[0m\n\u001b[1;32m   1380\u001b[0m           ret = tf_session.TF_SessionRunCallable(\n\u001b[1;32m   1381\u001b[0m               \u001b[0mself\u001b[0m\u001b[0;34m.\u001b[0m\u001b[0m_session\u001b[0m\u001b[0;34m.\u001b[0m\u001b[0m_session\u001b[0m\u001b[0;34m,\u001b[0m \u001b[0mself\u001b[0m\u001b[0;34m.\u001b[0m\u001b[0m_handle\u001b[0m\u001b[0;34m,\u001b[0m \u001b[0margs\u001b[0m\u001b[0;34m,\u001b[0m \u001b[0mstatus\u001b[0m\u001b[0;34m,\u001b[0m\u001b[0;34m\u001b[0m\u001b[0m\n\u001b[0;32m-> 1382\u001b[0;31m               run_metadata_ptr)\n\u001b[0m\u001b[1;32m   1383\u001b[0m         \u001b[0;32mif\u001b[0m \u001b[0mrun_metadata\u001b[0m\u001b[0;34m:\u001b[0m\u001b[0;34m\u001b[0m\u001b[0m\n\u001b[1;32m   1384\u001b[0m           \u001b[0mproto_data\u001b[0m \u001b[0;34m=\u001b[0m \u001b[0mtf_session\u001b[0m\u001b[0;34m.\u001b[0m\u001b[0mTF_GetBuffer\u001b[0m\u001b[0;34m(\u001b[0m\u001b[0mrun_metadata_ptr\u001b[0m\u001b[0;34m)\u001b[0m\u001b[0;34m\u001b[0m\u001b[0m\n",
      "\u001b[0;31mKeyboardInterrupt\u001b[0m: "
     ]
    }
   ],
   "source": [
    "model.evaluate([encoder_input_data, decoder_input_data], \n",
    "                   decoder_target_data,)"
   ]
  },
  {
   "cell_type": "code",
   "execution_count": 18,
   "metadata": {},
   "outputs": [],
   "source": [
    "# Reverse-lookup token index to decode sequences back to\n",
    "# something readable.\n",
    "reverse_input_char_index = {v: k for k, v in input_token_index.items()}\n",
    "reverse_target_char_index = {v: k for k, v in target_token_index.items()} "
   ]
  },
  {
   "cell_type": "code",
   "execution_count": 14,
   "metadata": {
    "collapsed": true
   },
   "outputs": [],
   "source": []
  },
  {
   "cell_type": "code",
   "execution_count": 15,
   "metadata": {
    "collapsed": true
   },
   "outputs": [],
   "source": []
  },
  {
   "cell_type": "code",
   "execution_count": null,
   "metadata": {
    "collapsed": true
   },
   "outputs": [],
   "source": []
  },
  {
   "cell_type": "code",
   "execution_count": null,
   "metadata": {
    "collapsed": true
   },
   "outputs": [],
   "source": []
  },
  {
   "cell_type": "code",
   "execution_count": null,
   "metadata": {
    "collapsed": true
   },
   "outputs": [],
   "source": [
    "\n"
   ]
  },
  {
   "cell_type": "code",
   "execution_count": 19,
   "metadata": {},
   "outputs": [
    {
     "data": {
      "text/plain": [
       "['decoder_inputs',\n",
       " 'decoder_input_h',\n",
       " 'decoder_input_c',\n",
       " 'decoder_lstm',\n",
       " 'decoder_dense']"
      ]
     },
     "execution_count": 19,
     "metadata": {},
     "output_type": "execute_result"
    }
   ],
   "source": [
    "[l.name for l in decoder_model.layers]"
   ]
  },
  {
   "cell_type": "code",
   "execution_count": null,
   "metadata": {},
   "outputs": [],
   "source": []
  },
  {
   "cell_type": "code",
   "execution_count": 20,
   "metadata": {},
   "outputs": [
    {
     "data": {
      "text/plain": [
       "['go',\n",
       " 'run!',\n",
       " 'run!',\n",
       " 'fire!',\n",
       " 'help!',\n",
       " 'jump',\n",
       " 'stop!',\n",
       " 'stop!',\n",
       " 'stop!',\n",
       " 'wait!',\n",
       " 'wait!',\n",
       " 'go on',\n",
       " 'go on',\n",
       " 'go on',\n",
       " 'i see',\n",
       " 'i try',\n",
       " 'i won!',\n",
       " 'i won!',\n",
       " 'oh no!',\n",
       " 'attack!',\n",
       " 'attack!',\n",
       " 'cheers!',\n",
       " 'cheers!',\n",
       " 'cheers!',\n",
       " 'cheers!']"
      ]
     },
     "execution_count": 20,
     "metadata": {},
     "output_type": "execute_result"
    }
   ],
   "source": [
    "input_phrases[:25]"
   ]
  },
  {
   "cell_type": "code",
   "execution_count": 21,
   "metadata": {},
   "outputs": [],
   "source": [
    "def translate(phrase, encoder_model, decoder_model, \n",
    "              input_token_index, target_token_index):\n",
    "    vect = vectorize_phrase(phrase, input_token_index,\n",
    "                            max_encoder_seq_length)\n",
    "    decoded = decode_sequence(vect,target_token_index, \n",
    "                        encoder_model, decoder_model)\n",
    "    return decoded[:-1]\n",
    "\n",
    "translator = lambda p: translate(p, encoder_model, decoder_model,\n",
    "                                input_token_index, target_token_index)"
   ]
  },
  {
   "cell_type": "code",
   "execution_count": null,
   "metadata": {},
   "outputs": [],
   "source": []
  },
  {
   "cell_type": "code",
   "execution_count": null,
   "metadata": {},
   "outputs": [],
   "source": []
  },
  {
   "cell_type": "code",
   "execution_count": 25,
   "metadata": {},
   "outputs": [
    {
     "data": {
      "text/plain": [
       "'va !'"
      ]
     },
     "execution_count": 25,
     "metadata": {},
     "output_type": "execute_result"
    }
   ],
   "source": []
  },
  {
   "cell_type": "code",
   "execution_count": null,
   "metadata": {
    "collapsed": true
   },
   "outputs": [],
   "source": []
  },
  {
   "cell_type": "code",
   "execution_count": null,
   "metadata": {
    "collapsed": true
   },
   "outputs": [],
   "source": []
  },
  {
   "cell_type": "code",
   "execution_count": 12,
   "metadata": {
    "collapsed": true
   },
   "outputs": [],
   "source": [
    "input_phrases, _ = read_data(data_path)\n",
    "input_phrases = text_preprocess(input_phrases)\n",
    "\n",
    "encoder_vectorizer = lambda b: vectorize_batch(b, input_token_index,\n",
    "                                               max_encoder_seq_length)\n",
    "decoder_vectorizer = lambda b, offset: vectorize_batch(b, target_token_index,\n",
    "                                                       max_decoder_seq_length, offset) \n",
    "\n",
    "def vectorized_gen(phrases, batch_size,encoder_vectorizer, decoder_vectorizer):\n",
    "    for i in range(0, len(phrases), batch_size):\n",
    "        input_phrases, target_phrases =  misspelling_gen(phrases[i:i+batch_size], 0.07, 3)\n",
    "        print(len(input_phrases))\n",
    "        print(len(target_phrases))\n",
    "        encoder_input_data = encoder_vectorizer(input_phrases)\n",
    "        decoder_input_data = decoder_vectorizer(target_phrases, False)\n",
    "        decoder_target_data = decoder_vectorizer(target_phrases, True)\n",
    "        max_encoder_seq_length = max([len(txt) for txt in input_phrases])\n",
    "        \n",
    "        yield ([encoder_input_data, decoder_input_data], decoder_target_data)\n",
    "        print('yielded')\n",
    "\n",
    "training_generator = vectorized_gen(input_phrases, num_samples, encoder_vectorizer, decoder_vectorizer)\n"
   ]
  },
  {
   "cell_type": "code",
   "execution_count": 14,
   "metadata": {
    "collapsed": true
   },
   "outputs": [],
   "source": [
    "input_token_index = token_index(input_phrases)\n",
    "target_token_index = token_index(target_phrases)\n",
    "num_encoder_tokens = len(input_token_index)\n",
    "num_decoder_tokens = len(target_token_index)\n",
    "max_encoder_seq_length = max([len(txt) for txt in input_phrases])\n",
    "max_decoder_seq_length = max([len(txt) for txt in target_phrases])"
   ]
  },
  {
   "cell_type": "code",
   "execution_count": 15,
   "metadata": {},
   "outputs": [
    {
     "name": "stdout",
     "output_type": "stream",
     "text": [
      "240000\n",
      "240000\n"
     ]
    },
    {
     "ename": "MemoryError",
     "evalue": "",
     "output_type": "error",
     "traceback": [
      "\u001b[0;31m---------------------------------------------------------------------------\u001b[0m",
      "\u001b[0;31mMemoryError\u001b[0m                               Traceback (most recent call last)",
      "\u001b[0;32m<ipython-input-15-2888e8d3ee82>\u001b[0m in \u001b[0;36m<module>\u001b[0;34m()\u001b[0m\n\u001b[1;32m      1\u001b[0m \u001b[0;32mfor\u001b[0m \u001b[0m_\u001b[0m \u001b[0;32min\u001b[0m \u001b[0mrange\u001b[0m\u001b[0;34m(\u001b[0m\u001b[0;36m5\u001b[0m\u001b[0;34m)\u001b[0m\u001b[0;34m:\u001b[0m\u001b[0;34m\u001b[0m\u001b[0m\n\u001b[1;32m      2\u001b[0m     \u001b[0mspell_gen\u001b[0m \u001b[0;34m=\u001b[0m \u001b[0;32mlambda\u001b[0m \u001b[0;34m:\u001b[0m \u001b[0mmisspelling_gen\u001b[0m\u001b[0;34m(\u001b[0m\u001b[0minput_phrases\u001b[0m\u001b[0;34m,\u001b[0m \u001b[0;36m0.07\u001b[0m\u001b[0;34m,\u001b[0m \u001b[0;36m3\u001b[0m\u001b[0;34m)\u001b[0m\u001b[0;34m\u001b[0m\u001b[0m\n\u001b[0;32m----> 3\u001b[0;31m     \u001b[0mX\u001b[0m\u001b[0;34m,\u001b[0m \u001b[0mY\u001b[0m \u001b[0;34m=\u001b[0m \u001b[0mnext\u001b[0m\u001b[0;34m(\u001b[0m\u001b[0mtraining_generator\u001b[0m\u001b[0;34m)\u001b[0m\u001b[0;34m\u001b[0m\u001b[0m\n\u001b[0m\u001b[1;32m      4\u001b[0m     model.fit(X, Y,\n\u001b[1;32m      5\u001b[0m           \u001b[0mbatch_size\u001b[0m\u001b[0;34m=\u001b[0m\u001b[0mbatch_size\u001b[0m\u001b[0;34m,\u001b[0m\u001b[0;34m\u001b[0m\u001b[0m\n",
      "\u001b[0;32m<ipython-input-13-9b10eacfd84f>\u001b[0m in \u001b[0;36mvectorized_gen\u001b[0;34m(phrases, batch_size, encoder_vectorizer, decoder_vectorizer)\u001b[0m\n\u001b[1;32m     12\u001b[0m         \u001b[0mprint\u001b[0m\u001b[0;34m(\u001b[0m\u001b[0mlen\u001b[0m\u001b[0;34m(\u001b[0m\u001b[0minput_phrases\u001b[0m\u001b[0;34m)\u001b[0m\u001b[0;34m)\u001b[0m\u001b[0;34m\u001b[0m\u001b[0m\n\u001b[1;32m     13\u001b[0m         \u001b[0mprint\u001b[0m\u001b[0;34m(\u001b[0m\u001b[0mlen\u001b[0m\u001b[0;34m(\u001b[0m\u001b[0mtarget_phrases\u001b[0m\u001b[0;34m)\u001b[0m\u001b[0;34m)\u001b[0m\u001b[0;34m\u001b[0m\u001b[0m\n\u001b[0;32m---> 14\u001b[0;31m         \u001b[0mencoder_input_data\u001b[0m \u001b[0;34m=\u001b[0m \u001b[0mencoder_vectorizer\u001b[0m\u001b[0;34m(\u001b[0m\u001b[0minput_phrases\u001b[0m\u001b[0;34m)\u001b[0m\u001b[0;34m\u001b[0m\u001b[0m\n\u001b[0m\u001b[1;32m     15\u001b[0m         \u001b[0mdecoder_input_data\u001b[0m \u001b[0;34m=\u001b[0m \u001b[0mdecoder_vectorizer\u001b[0m\u001b[0;34m(\u001b[0m\u001b[0mtarget_phrases\u001b[0m\u001b[0;34m,\u001b[0m \u001b[0;32mFalse\u001b[0m\u001b[0;34m)\u001b[0m\u001b[0;34m\u001b[0m\u001b[0m\n\u001b[1;32m     16\u001b[0m         \u001b[0mdecoder_target_data\u001b[0m \u001b[0;34m=\u001b[0m \u001b[0mdecoder_vectorizer\u001b[0m\u001b[0;34m(\u001b[0m\u001b[0mtarget_phrases\u001b[0m\u001b[0;34m,\u001b[0m \u001b[0;32mTrue\u001b[0m\u001b[0;34m)\u001b[0m\u001b[0;34m\u001b[0m\u001b[0m\n",
      "\u001b[0;32m<ipython-input-13-9b10eacfd84f>\u001b[0m in \u001b[0;36m<lambda>\u001b[0;34m(b)\u001b[0m\n\u001b[1;32m      3\u001b[0m \u001b[0;34m\u001b[0m\u001b[0m\n\u001b[1;32m      4\u001b[0m encoder_vectorizer = lambda b: vectorize_batch(b, input_token_index,\n\u001b[0;32m----> 5\u001b[0;31m                                                max_encoder_seq_length)\n\u001b[0m\u001b[1;32m      6\u001b[0m decoder_vectorizer = lambda b, offset: vectorize_batch(b, target_token_index,\n\u001b[1;32m      7\u001b[0m                                                        max_decoder_seq_length, offset) \n",
      "\u001b[0;32m<ipython-input-7-dd12a401fd16>\u001b[0m in \u001b[0;36mvectorize_batch\u001b[0;34m(texts, token_index, max_seq_len, offset)\u001b[0m\n\u001b[1;32m      4\u001b[0m \u001b[0;34m\u001b[0m\u001b[0m\n\u001b[1;32m      5\u001b[0m     \u001b[0;31m# Generate 1-hot encoding\u001b[0m\u001b[0;34m\u001b[0m\u001b[0;34m\u001b[0m\u001b[0m\n\u001b[0;32m----> 6\u001b[0;31m     \u001b[0mdata\u001b[0m \u001b[0;34m=\u001b[0m \u001b[0mnp\u001b[0m\u001b[0;34m.\u001b[0m\u001b[0mzeros\u001b[0m\u001b[0;34m(\u001b[0m\u001b[0;34m(\u001b[0m\u001b[0mexample_count\u001b[0m\u001b[0;34m,\u001b[0m \u001b[0mmax_seq_len\u001b[0m\u001b[0;34m,\u001b[0m \u001b[0mnum_tokens\u001b[0m\u001b[0;34m)\u001b[0m\u001b[0;34m,\u001b[0m\u001b[0mdtype\u001b[0m\u001b[0;34m=\u001b[0m\u001b[0;34m'float32'\u001b[0m\u001b[0;34m)\u001b[0m\u001b[0;34m\u001b[0m\u001b[0m\n\u001b[0m\u001b[1;32m      7\u001b[0m \u001b[0;34m\u001b[0m\u001b[0m\n\u001b[1;32m      8\u001b[0m     \u001b[0;32mfor\u001b[0m \u001b[0mi\u001b[0m\u001b[0;34m,\u001b[0m \u001b[0mtext\u001b[0m \u001b[0;32min\u001b[0m \u001b[0menumerate\u001b[0m\u001b[0;34m(\u001b[0m\u001b[0mtexts\u001b[0m\u001b[0;34m)\u001b[0m\u001b[0;34m:\u001b[0m\u001b[0;34m\u001b[0m\u001b[0m\n",
      "\u001b[0;31mMemoryError\u001b[0m: "
     ]
    }
   ],
   "source": [
    "for _ in range(5):\n",
    "    spell_gen = lambda : misspelling_gen(input_phrases, 0.07, 3)\n",
    "    X, Y = next(training_generator)\n",
    "    model.fit(X, Y,\n",
    "          batch_size=batch_size,\n",
    "          epochs=5,\n",
    "          validation_split=0.1)\n"
   ]
  },
  {
   "cell_type": "code",
   "execution_count": null,
   "metadata": {
    "collapsed": true
   },
   "outputs": [],
   "source": []
  }
 ],
 "metadata": {
  "kernelspec": {
   "display_name": "Python 3",
   "language": "python",
   "name": "python3"
  },
  "language_info": {
   "codemirror_mode": {
    "name": "ipython",
    "version": 3
   },
   "file_extension": ".py",
   "mimetype": "text/x-python",
   "name": "python",
   "nbconvert_exporter": "python",
   "pygments_lexer": "ipython3",
   "version": "3.6.4"
  }
 },
 "nbformat": 4,
 "nbformat_minor": 2
}
